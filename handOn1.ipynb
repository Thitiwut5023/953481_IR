{
 "cells": [
  {
   "cell_type": "markdown",
   "id": "c838d2eb630a5be1",
   "metadata": {},
   "source": [
    "# Create word list for each job entry\n",
    "### Pages 17 - 23"
   ]
  },
  {
   "cell_type": "code",
   "id": "e727169bc726c592",
   "metadata": {
    "ExecuteTime": {
     "end_time": "2024-11-25T10:22:07.993566Z",
     "start_time": "2024-11-25T10:22:07.990247Z"
    }
   },
   "source": [
    "import string\n",
    "import pandas as pd\n",
    "import numpy as np\n",
    "import requests\n",
    "from bs4 import BeautifulSoup\n"
   ],
   "outputs": [],
   "execution_count": 32
  },
  {
   "cell_type": "code",
   "id": "a643660101c6f69",
   "metadata": {
    "ExecuteTime": {
     "end_time": "2024-11-25T10:22:08.008471Z",
     "start_time": "2024-11-25T10:22:08.003706Z"
    }
   },
   "source": [
    "def get_and_clean_data():\n",
    "    data = pd.read_csv('data/software_developer_united_states_1971_20191023_1.csv')\n",
    "    description = data['job_description']\n",
    "    cleaned_description = description.apply(lambda s: s.translate(str.maketrans('', '', string.punctuation + u'\\xa0')))\n",
    "    cleaned_description = cleaned_description.apply(lambda s: s.lower())\n",
    "    cleaned_description = cleaned_description.apply(lambda s:\n",
    "s.translate(str.maketrans(string.whitespace, ' '*len(string.whitespace), '')))\n",
    "    cleaned_description = cleaned_description.drop_duplicates()\n",
    "    return cleaned_description\n",
    "\n",
    "def simple_tokenize(data):\n",
    "    cleaned_description = data.apply(lambda s: [x.strip() for x in s.split()])\n",
    "    return cleaned_description\n",
    "\n",
    "def parse_job_description():\n",
    "    cleaned_description = get_and_clean_data()\n",
    "    cleaned_description = simple_tokenize(cleaned_description)\n",
    "    return cleaned_description"
   ],
   "outputs": [],
   "execution_count": 33
  },
  {
   "cell_type": "markdown",
   "id": "86f2214ade05bc12",
   "metadata": {},
   "source": [
    "## Sub question, e.g., How many positions required MySql and Python"
   ]
  },
  {
   "cell_type": "code",
   "id": "973f502507f4526a",
   "metadata": {
    "ExecuteTime": {
     "end_time": "2024-11-25T10:22:08.023193Z",
     "start_time": "2024-11-25T10:22:08.019805Z"
    }
   },
   "source": [
    "def count_python_mysql():\n",
    "    parsed_description = parse_job_description()\n",
    "    count_python = parsed_description.apply(lambda s: 'python' in s).sum()\n",
    "    count_mysql = parsed_description.apply(lambda s: 'mysql' in s).sum()\n",
    "    print('python: ' + str(count_python) + ' of ' + str(parsed_description.shape[0]))\n",
    "    print('mysql: ' + str(count_mysql) + ' of ' + str(parsed_description.shape[0]))"
   ],
   "outputs": [],
   "execution_count": 34
  },
  {
   "cell_type": "code",
   "id": "576c9ccc1b9a03e",
   "metadata": {
    "ExecuteTime": {
     "end_time": "2024-11-25T10:22:14.252981Z",
     "start_time": "2024-11-25T10:22:08.033423Z"
    }
   },
   "source": [
    "count_python_mysql()"
   ],
   "outputs": [
    {
     "name": "stdout",
     "output_type": "stream",
     "text": [
      "python: 1379 of 7583\n",
      "mysql: 667 of 7583\n"
     ]
    }
   ],
   "execution_count": 35
  },
  {
   "cell_type": "markdown",
   "id": "c3ded4a6ce6cde7f",
   "metadata": {},
   "source": [
    "## What about other db"
   ]
  },
  {
   "cell_type": "code",
   "id": "e2e2e57cd4641026",
   "metadata": {
    "ExecuteTime": {
     "end_time": "2024-11-25T10:22:14.329530Z",
     "start_time": "2024-11-25T10:22:14.324308Z"
    }
   },
   "source": [
    "def parse_db():\n",
    "    html_doc = requests.get(\"https://db-engines.com/en/ranking\").content\n",
    "    soup = BeautifulSoup(html_doc, 'html.parser')\n",
    "    db_table = soup.find(\"table\", {\"class\": \"dbi\"})\n",
    "    all_db = [''.join(s.find('a').findAll(text=True,recursive=False)).strip() for s in db_table.findAll(\"th\", {\"class\": \"pad-l\"})]\n",
    "    all_db = list(dict.fromkeys(all_db))\n",
    "    db_list = all_db[:10]\n",
    "    db_list = [s.lower() for s in db_list]\n",
    "    db_list = [[x.strip() for x in s.split()] for s in db_list]\n",
    "    return db_list\n",
    "    "
   ],
   "outputs": [],
   "execution_count": 36
  },
  {
   "cell_type": "code",
   "id": "2f7d1f1086f4ccf8",
   "metadata": {
    "ExecuteTime": {
     "end_time": "2024-11-25T10:22:15.994723Z",
     "start_time": "2024-11-25T10:22:14.351119Z"
    }
   },
   "source": [
    "parse_db()"
   ],
   "outputs": [
    {
     "name": "stderr",
     "output_type": "stream",
     "text": [
      "C:\\Users\\Admin\\AppData\\Local\\Temp\\ipykernel_21652\\4184906454.py:5: DeprecationWarning: The 'text' argument to find()-type methods is deprecated. Use 'string' instead.\n",
      "  all_db = [''.join(s.find('a').findAll(text=True,recursive=False)).strip() for s in db_table.findAll(\"th\", {\"class\": \"pad-l\"})]\n"
     ]
    },
    {
     "data": {
      "text/plain": [
       "[['oracle'],\n",
       " ['mysql'],\n",
       " ['microsoft', 'sql', 'server'],\n",
       " ['postgresql'],\n",
       " ['mongodb'],\n",
       " ['redis'],\n",
       " ['snowflake'],\n",
       " ['elasticsearch'],\n",
       " ['ibm', 'db2'],\n",
       " ['sqlite']]"
      ]
     },
     "execution_count": 37,
     "metadata": {},
     "output_type": "execute_result"
    }
   ],
   "execution_count": 37
  },
  {
   "cell_type": "markdown",
   "id": "44b7c2f429b3d9ad",
   "metadata": {},
   "source": [
    "## Executing"
   ]
  },
  {
   "cell_type": "code",
   "id": "bc22d5a9daaea0e7",
   "metadata": {
    "ExecuteTime": {
     "end_time": "2024-11-25T10:22:24.322845Z",
     "start_time": "2024-11-25T10:22:16.005422Z"
    }
   },
   "source": [
    "cleaned_db = parse_db()\n",
    "parsed_description = parse_job_description()\n",
    "raw = [None] * len(cleaned_db)\n",
    "for i,db in enumerate(cleaned_db):\n",
    "    raw[i] = parsed_description.apply(lambda s: np.all([x in s for x in db])).sum()\n",
    "    print(' '.join(db) + ': ' + str(raw[i]) + ' of ' + str(parsed_description .shape[0]))\n"
   ],
   "outputs": [
    {
     "name": "stderr",
     "output_type": "stream",
     "text": [
      "C:\\Users\\Admin\\AppData\\Local\\Temp\\ipykernel_21652\\4184906454.py:5: DeprecationWarning: The 'text' argument to find()-type methods is deprecated. Use 'string' instead.\n",
      "  all_db = [''.join(s.find('a').findAll(text=True,recursive=False)).strip() for s in db_table.findAll(\"th\", {\"class\": \"pad-l\"})]\n"
     ]
    },
    {
     "name": "stdout",
     "output_type": "stream",
     "text": [
      "oracle: 1392 of 7583\n",
      "mysql: 667 of 7583\n",
      "microsoft sql server: 868 of 7583\n",
      "postgresql: 261 of 7583\n",
      "mongodb: 296 of 7583\n",
      "redis: 106 of 7583\n",
      "snowflake: 15 of 7583\n",
      "elasticsearch: 161 of 7583\n",
      "ibm db2: 48 of 7583\n",
      "sqlite: 28 of 7583\n"
     ]
    }
   ],
   "execution_count": 38
  },
  {
   "cell_type": "code",
   "id": "c6a4f83e1901d60a",
   "metadata": {
    "ExecuteTime": {
     "end_time": "2024-11-25T10:22:25.129797Z",
     "start_time": "2024-11-25T10:22:24.333695Z"
    }
   },
   "source": [
    "with_python = [None] * len(cleaned_db)\n",
    "for i,db in enumerate(cleaned_db):\n",
    "    with_python[i] = parsed_description.apply(lambda s: np.all([x in s for x in db]) and 'python' in s).sum()\n",
    "    print(' '.join(db) + ' + python: ' + str(with_python[i]) + ' of ' + str(parsed_description.shape[0]))"
   ],
   "outputs": [
    {
     "name": "stdout",
     "output_type": "stream",
     "text": [
      "oracle + python: 243 of 7583\n",
      "mysql + python: 207 of 7583\n",
      "microsoft sql server + python: 51 of 7583\n",
      "postgresql + python: 90 of 7583\n",
      "mongodb + python: 111 of 7583\n",
      "redis + python: 38 of 7583\n",
      "snowflake + python: 10 of 7583\n",
      "elasticsearch + python: 73 of 7583\n",
      "ibm db2 + python: 12 of 7583\n",
      "sqlite + python: 7 of 7583\n"
     ]
    }
   ],
   "execution_count": 39
  },
  {
   "cell_type": "code",
   "id": "9cfe9bf501034378",
   "metadata": {
    "ExecuteTime": {
     "end_time": "2024-11-25T10:22:25.144873Z",
     "start_time": "2024-11-25T10:22:25.140318Z"
    }
   },
   "source": [
    "for i, db in enumerate(cleaned_db):\n",
    "    print(' '.join(db) + ' + python: ' + str(with_python[i]) + ' of ' + str(raw[i]) + ' (' +\n",
    "str(np.around(with_python[i] / raw[i]*100,2)) + '%)')"
   ],
   "outputs": [
    {
     "name": "stdout",
     "output_type": "stream",
     "text": [
      "oracle + python: 243 of 1392 (17.46%)\n",
      "mysql + python: 207 of 667 (31.03%)\n",
      "microsoft sql server + python: 51 of 868 (5.88%)\n",
      "postgresql + python: 90 of 261 (34.48%)\n",
      "mongodb + python: 111 of 296 (37.5%)\n",
      "redis + python: 38 of 106 (35.85%)\n",
      "snowflake + python: 10 of 15 (66.67%)\n",
      "elasticsearch + python: 73 of 161 (45.34%)\n",
      "ibm db2 + python: 12 of 48 (25.0%)\n",
      "sqlite + python: 7 of 28 (25.0%)\n"
     ]
    }
   ],
   "execution_count": 40
  },
  {
   "cell_type": "markdown",
   "id": "e6150b969b94244b",
   "metadata": {},
   "source": [
    "# To enable a quick search for other queries\n",
    "### Pages 30 - 31"
   ]
  },
  {
   "cell_type": "code",
   "id": "c34da6c4424393cf",
   "metadata": {
    "ExecuteTime": {
     "end_time": "2024-11-25T10:22:34.171783Z",
     "start_time": "2024-11-25T10:22:25.156636Z"
    }
   },
   "source": [
    "lang = [['java'],['python'],['c'],['kotlin'],['swift'],['rust'],['ruby'],['scala'],['julia'],['lua']]\n",
    "parsed_description = parse_job_description()\n",
    "parsed_db = parse_db()\n",
    "all_terms = lang + parsed_db\n",
    "query_map = pd.DataFrame(parsed_description.apply(lambda s: [1 if np.all([d in s for d in db]) else 0 for\n",
    "db in all_terms]).values.tolist(), columns =[' '.join(d) for d in all_terms])"
   ],
   "outputs": [
    {
     "name": "stderr",
     "output_type": "stream",
     "text": [
      "C:\\Users\\Admin\\AppData\\Local\\Temp\\ipykernel_21652\\4184906454.py:5: DeprecationWarning: The 'text' argument to find()-type methods is deprecated. Use 'string' instead.\n",
      "  all_db = [''.join(s.find('a').findAll(text=True,recursive=False)).strip() for s in db_table.findAll(\"th\", {\"class\": \"pad-l\"})]\n"
     ]
    }
   ],
   "execution_count": 41
  },
  {
   "cell_type": "code",
   "id": "7b906da8a24b0f08",
   "metadata": {
    "ExecuteTime": {
     "end_time": "2024-11-25T10:22:34.189989Z",
     "start_time": "2024-11-25T10:22:34.182822Z"
    }
   },
   "source": [
    "print(query_map.head(20).to_markdown())"
   ],
   "outputs": [
    {
     "name": "stdout",
     "output_type": "stream",
     "text": [
      "|    |   java |   python |   c |   kotlin |   swift |   rust |   ruby |   scala |   julia |   lua |   oracle |   mysql |   microsoft sql server |   postgresql |   mongodb |   redis |   snowflake |   elasticsearch |   ibm db2 |   sqlite |\n",
      "|---:|-------:|---------:|----:|---------:|--------:|-------:|-------:|--------:|--------:|------:|---------:|--------:|-----------------------:|-------------:|----------:|--------:|------------:|----------------:|----------:|---------:|\n",
      "|  0 |      0 |        0 |   1 |        0 |       0 |      0 |      0 |       0 |       0 |     0 |        0 |       0 |                      0 |            1 |         0 |       0 |           0 |               0 |         0 |        0 |\n",
      "|  1 |      0 |        0 |   1 |        0 |       0 |      0 |      0 |       0 |       0 |     0 |        0 |       0 |                      0 |            0 |         0 |       0 |           0 |               0 |         0 |        0 |\n",
      "|  2 |      0 |        0 |   0 |        0 |       0 |      0 |      0 |       0 |       0 |     0 |        0 |       0 |                      0 |            0 |         0 |       0 |           0 |               0 |         0 |        0 |\n",
      "|  3 |      0 |        0 |   0 |        0 |       0 |      0 |      0 |       0 |       0 |     0 |        0 |       0 |                      0 |            0 |         0 |       0 |           0 |               0 |         0 |        0 |\n",
      "|  4 |      0 |        0 |   1 |        0 |       0 |      0 |      0 |       0 |       0 |     0 |        0 |       0 |                      0 |            0 |         0 |       0 |           0 |               0 |         0 |        0 |\n",
      "|  5 |      0 |        0 |   0 |        0 |       1 |      0 |      0 |       0 |       0 |     0 |        0 |       0 |                      0 |            0 |         0 |       0 |           0 |               0 |         0 |        0 |\n",
      "|  6 |      0 |        0 |   1 |        0 |       0 |      0 |      0 |       0 |       0 |     0 |        0 |       0 |                      0 |            0 |         0 |       0 |           0 |               0 |         0 |        0 |\n",
      "|  7 |      0 |        0 |   1 |        0 |       0 |      0 |      0 |       0 |       0 |     0 |        0 |       0 |                      0 |            0 |         0 |       0 |           0 |               0 |         0 |        0 |\n",
      "|  8 |      0 |        0 |   1 |        0 |       0 |      0 |      0 |       0 |       0 |     0 |        0 |       0 |                      0 |            0 |         0 |       0 |           0 |               0 |         0 |        0 |\n",
      "|  9 |      0 |        0 |   0 |        0 |       0 |      0 |      0 |       0 |       0 |     0 |        0 |       0 |                      0 |            0 |         0 |       0 |           0 |               0 |         0 |        0 |\n",
      "| 10 |      1 |        1 |   1 |        0 |       0 |      0 |      0 |       0 |       0 |     0 |        1 |       1 |                      0 |            0 |         1 |       0 |           0 |               0 |         0 |        0 |\n",
      "| 11 |      1 |        0 |   0 |        0 |       0 |      0 |      0 |       0 |       0 |     0 |        0 |       0 |                      0 |            0 |         0 |       0 |           0 |               0 |         0 |        0 |\n",
      "| 12 |      1 |        0 |   0 |        0 |       1 |      0 |      0 |       0 |       0 |     0 |        0 |       0 |                      0 |            0 |         0 |       1 |           0 |               0 |         0 |        0 |\n",
      "| 13 |      0 |        0 |   1 |        0 |       0 |      0 |      0 |       0 |       0 |     0 |        0 |       0 |                      0 |            0 |         0 |       0 |           0 |               0 |         0 |        0 |\n",
      "| 14 |      0 |        0 |   0 |        0 |       0 |      0 |      1 |       0 |       0 |     0 |        0 |       0 |                      0 |            1 |         0 |       0 |           0 |               0 |         0 |        0 |\n",
      "| 15 |      0 |        0 |   1 |        0 |       0 |      0 |      0 |       0 |       0 |     0 |        0 |       0 |                      0 |            0 |         0 |       0 |           0 |               0 |         0 |        0 |\n",
      "| 16 |      1 |        0 |   1 |        0 |       1 |      0 |      0 |       0 |       0 |     0 |        1 |       0 |                      0 |            0 |         0 |       0 |           0 |               0 |         0 |        0 |\n",
      "| 17 |      0 |        0 |   1 |        0 |       0 |      0 |      0 |       0 |       0 |     0 |        0 |       0 |                      1 |            0 |         0 |       0 |           0 |               0 |         0 |        0 |\n",
      "| 18 |      0 |        0 |   1 |        0 |       0 |      0 |      0 |       0 |       0 |     0 |        0 |       1 |                      0 |            0 |         0 |       0 |           0 |               0 |         0 |        0 |\n",
      "| 19 |      1 |        1 |   0 |        0 |       0 |      0 |      0 |       0 |       0 |     0 |        0 |       0 |                      0 |            0 |         0 |       0 |           0 |               0 |         0 |        0 |\n"
     ]
    }
   ],
   "execution_count": 42
  },
  {
   "cell_type": "code",
   "id": "1b8bec3aa9acda40",
   "metadata": {
    "ExecuteTime": {
     "end_time": "2024-11-25T10:22:34.453744Z",
     "start_time": "2024-11-25T10:22:34.268725Z"
    }
   },
   "source": [
    "query_map[query_map['java'] > 0].apply(lambda s:\n",
    "np.where(s==1)[0], axis=1).apply(lambda s:\n",
    "list(query_map.columns[s]))"
   ],
   "outputs": [
    {
     "data": {
      "text/plain": [
       "10      [java, python, c, oracle, mysql, mongodb]\n",
       "11                                         [java]\n",
       "12                           [java, swift, redis]\n",
       "16                       [java, c, swift, oracle]\n",
       "19                                 [java, python]\n",
       "                          ...                    \n",
       "7576                               [java, oracle]\n",
       "7578                [java, python, oracle, mysql]\n",
       "7579                               [java, oracle]\n",
       "7581                        [java, oracle, mysql]\n",
       "7582                              [java, mongodb]\n",
       "Length: 3268, dtype: object"
      ]
     },
     "execution_count": 43,
     "metadata": {},
     "output_type": "execute_result"
    }
   ],
   "execution_count": 43
  },
  {
   "cell_type": "markdown",
   "id": "dd91636f29158a71",
   "metadata": {},
   "source": [
    "## Page 41"
   ]
  },
  {
   "cell_type": "code",
   "id": "e2579dddfcaa183",
   "metadata": {
    "ExecuteTime": {
     "end_time": "2024-11-25T10:22:34.661614Z",
     "start_time": "2024-11-25T10:22:34.489205Z"
    }
   },
   "source": [
    "str1 = 'the chosen software developer will be part of a larger engineering team developing software for medical devices.'\n",
    "str2 = 'we are seeking a seasoned software developer with strong analytical and technical skills to join our public sector technology consulting team.'\n",
    "\n",
    "import nltk\n",
    "nltk.download('stopwords')\n",
    "nltk.download('punkt_tab')\n",
    "from nltk.corpus import stopwords\n",
    "from nltk.tokenize import word_tokenize\n",
    "from nltk.stem import PorterStemmer\n",
    "\n",
    "# Tokenize\n",
    "tokened_str1 = word_tokenize(str1)\n",
    "tokened_str2 = word_tokenize(str2)\n",
    "\n",
    "# Remove low frequency\n",
    "tokened_str1 = [w for w in tokened_str1 if len(w) > 2]\n",
    "tokened_str2 = [w for w in tokened_str2 if len(w) > 2]\n",
    "\n",
    "# Remove stop words\n",
    "no_sw_str1 = [word for word in tokened_str1 if not word in stopwords.words()]\n",
    "no_sw_str2 = [word for word in tokened_str2 if not word in stopwords.words()]\n",
    "\n",
    "# Stemming\n",
    "ps = PorterStemmer()\n",
    "stemmed_str1 = np.unique([ps.stem(w) for w in no_sw_str1])\n",
    "stemmed_str2 = np.unique([ps.stem(w) for w in no_sw_str2])\n",
    "\n",
    "full_list = np.sort(np.concatenate([stemmed_str1, stemmed_str2]))"
   ],
   "outputs": [
    {
     "name": "stderr",
     "output_type": "stream",
     "text": [
      "[nltk_data] Downloading package stopwords to\n",
      "[nltk_data]     C:\\Users\\Admin\\AppData\\Roaming\\nltk_data...\n",
      "[nltk_data]   Package stopwords is already up-to-date!\n",
      "[nltk_data] Downloading package punkt_tab to\n",
      "[nltk_data]     C:\\Users\\Admin\\AppData\\Roaming\\nltk_data...\n",
      "[nltk_data]   Package punkt_tab is already up-to-date!\n"
     ]
    }
   ],
   "execution_count": 44
  },
  {
   "cell_type": "markdown",
   "id": "7a65f7706a4d9028",
   "metadata": {},
   "source": [
    "## Result full_list"
   ]
  },
  {
   "cell_type": "code",
   "id": "dfacb9200c305357",
   "metadata": {
    "ExecuteTime": {
     "end_time": "2024-11-25T10:22:34.792442Z",
     "start_time": "2024-11-25T10:22:34.788301Z"
    }
   },
   "source": [
    "print(full_list)"
   ],
   "outputs": [
    {
     "name": "stdout",
     "output_type": "stream",
     "text": [
      "['analyt' 'chosen' 'consult' 'develop' 'develop' 'devic' 'engin' 'join'\n",
      " 'larger' 'medic' 'part' 'public' 'season' 'sector' 'seek' 'skill'\n",
      " 'softwar' 'softwar' 'strong' 'team' 'team' 'technic' 'technolog']\n"
     ]
    }
   ],
   "execution_count": 45
  },
  {
   "metadata": {},
   "cell_type": "markdown",
   "source": "",
   "id": "ddff14b7d3a08277"
  }
 ],
 "metadata": {
  "kernelspec": {
   "display_name": "Python 3 (ipykernel)",
   "language": "python",
   "name": "python3"
  },
  "language_info": {
   "codemirror_mode": {
    "name": "ipython",
    "version": 3
   },
   "file_extension": ".py",
   "mimetype": "text/x-python",
   "name": "python",
   "nbconvert_exporter": "python",
   "pygments_lexer": "ipython3",
   "version": "3.12.7"
  }
 },
 "nbformat": 4,
 "nbformat_minor": 5
}
