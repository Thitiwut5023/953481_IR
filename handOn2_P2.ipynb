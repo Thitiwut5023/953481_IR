{
 "cells": [
  {
   "cell_type": "markdown",
   "id": "de0cf6cbc598bc01",
   "metadata": {},
   "source": "## Page 41 "
  },
  {
   "cell_type": "code",
   "id": "b1c0e9e9b8baabcd",
   "metadata": {
    "ExecuteTime": {
     "end_time": "2024-12-02T09:28:12.256601Z",
     "start_time": "2024-12-02T09:28:10.622530Z"
    }
   },
   "source": [
    "from toolz.curried import unique\n",
    "\n",
    "str1 = 'the chosen software developer will be part of a larger engineering team developing software for medical devices.'\n",
    "str2 = 'we are seeking a seasoned software developer with strong analytical and technical skills to join our public sector technology consulting team.'\n",
    "\n",
    "import nltk\n",
    "import numpy as np\n",
    "nltk.download('stopwords')\n",
    "nltk.download('punkt_tab')\n",
    "from nltk.corpus import stopwords\n",
    "from nltk.tokenize import word_tokenize\n",
    "from nltk.stem import PorterStemmer\n",
    "\n",
    "# Tokenize\n",
    "tokened_str1 = word_tokenize(str1)\n",
    "tokened_str2 = word_tokenize(str2)\n",
    "\n",
    "# Remove low frequency\n",
    "tokened_str1 = [w for w in tokened_str1 if len(w) > 2]\n",
    "tokened_str2 = [w for w in tokened_str2 if len(w) > 2]\n",
    "\n",
    "# Remove stop words\n",
    "no_sw_str1 = [word for word in tokened_str1 if not word in stopwords.words()]\n",
    "no_sw_str2 = [word for word in tokened_str2 if not word in stopwords.words()]\n",
    "\n",
    "# Stemming\n",
    "ps = PorterStemmer()\n",
    "stemmed_str1 = np.unique([ps.stem(w) for w in no_sw_str1])\n",
    "stemmed_str2 = np.unique([ps.stem(w) for w in no_sw_str2])\n",
    "\n",
    "full_list = np.sort(np.concatenate([stemmed_str1, stemmed_str2]))"
   ],
   "outputs": [
    {
     "name": "stderr",
     "output_type": "stream",
     "text": [
      "[nltk_data] Downloading package stopwords to\n",
      "[nltk_data]     C:\\Users\\Admin\\AppData\\Roaming\\nltk_data...\n",
      "[nltk_data]   Package stopwords is already up-to-date!\n",
      "[nltk_data] Downloading package punkt_tab to\n",
      "[nltk_data]     C:\\Users\\Admin\\AppData\\Roaming\\nltk_data...\n",
      "[nltk_data]   Package punkt_tab is already up-to-date!\n"
     ]
    }
   ],
   "execution_count": 1
  },
  {
   "cell_type": "markdown",
   "id": "a9f0bd5b1598dd35",
   "metadata": {},
   "source": [
    "### Result full_list"
   ]
  },
  {
   "cell_type": "code",
   "id": "4798a129b8a1891d",
   "metadata": {
    "ExecuteTime": {
     "end_time": "2024-12-02T09:28:12.291618Z",
     "start_time": "2024-12-02T09:28:12.287610Z"
    }
   },
   "source": [
    "print(full_list)"
   ],
   "outputs": [
    {
     "name": "stdout",
     "output_type": "stream",
     "text": [
      "['analyt' 'chosen' 'consult' 'develop' 'develop' 'devic' 'engin' 'join'\n",
      " 'larger' 'medic' 'part' 'public' 'season' 'sector' 'seek' 'skill'\n",
      " 'softwar' 'softwar' 'strong' 'team' 'team' 'technic' 'technolog']\n"
     ]
    }
   ],
   "execution_count": 2
  },
  {
   "cell_type": "markdown",
   "id": "abf9b64bfb05ddf8",
   "metadata": {},
   "source": [
    "# HandOn2 \n",
    "### page 2 of Handout #2\n",
    "\n",
    "Rolling six dice and estimate the probability of not getting exactly one\n",
    "specific outcome (e.g., not getting a single 1) over n trials."
   ]
  },
  {
   "cell_type": "code",
   "id": "f06aef4f51037aa9",
   "metadata": {
    "ExecuteTime": {
     "end_time": "2024-12-02T09:28:12.529711Z",
     "start_time": "2024-12-02T09:28:12.482325Z"
    }
   },
   "source": [
    "import numpy as np\n",
    "\n",
    "k = 6\n",
    "n = 8\n",
    "n_simulations = 100000\n",
    "dice_rolls = np.random.randint(1, 7, size=(n_simulations, k * n))\n",
    "has_1 = (dice_rolls==1).any(axis=1)\n",
    "non_single_1 = ~has_1\n",
    "prob_non_single_one = np.mean(non_single_1)\n",
    "\n",
    "print(f\"Simulated probability of non-single '1's: {prob_non_single_one:.5f}\")\n",
    "\n"
   ],
   "outputs": [
    {
     "name": "stdout",
     "output_type": "stream",
     "text": [
      "Simulated probability of non-single '1's: 0.00021\n"
     ]
    }
   ],
   "execution_count": 3
  },
  {
   "cell_type": "markdown",
   "id": "5abd48cd57a02261",
   "metadata": {},
   "source": "### page 3 of Handout #2"
  },
  {
   "metadata": {
    "ExecuteTime": {
     "end_time": "2024-12-02T09:28:14.252903Z",
     "start_time": "2024-12-02T09:28:12.552718Z"
    }
   },
   "cell_type": "code",
   "source": [
    "import pymc as pm\n",
    "\n",
    "k = 6\n",
    "n = 8\n",
    "n_simulations = 10000\n",
    "\n",
    "with pm.Model() as model:\n",
    "    total_ones = pm.Binomial('total_ones', n=k * n, p=1/6, shape=n_simulations)\n",
    "    prior = pm.sample_prior_predictive()\n",
    "    \n",
    "total_ones_results = prior.prior['total_ones']\n",
    "no_ones_results = (total_ones_results == 0)\n",
    "prob_no_ones = no_ones_results.mean()\n",
    "print(total_ones_results)\n",
    "prob_no_ones"
   ],
   "id": "b71a7889180f5163",
   "outputs": [
    {
     "name": "stderr",
     "output_type": "stream",
     "text": [
      "WARNING (pytensor.configdefaults): g++ not available, if using conda: `conda install m2w64-toolchain`\n",
      "WARNING (pytensor.configdefaults): g++ not detected!  PyTensor will be unable to compile C-implementations and will default to Python. Performance may be severely degraded. To remove this warning, set PyTensor flags cxx to an empty string.\n",
      "WARNING (pytensor.tensor.blas): Using NumPy C-API based implementation for BLAS functions.\n",
      "Sampling: [total_ones]\n"
     ]
    },
    {
     "name": "stdout",
     "output_type": "stream",
     "text": [
      "<xarray.DataArray 'total_ones' (chain: 1, draw: 500, total_ones_dim_0: 10000)> Size: 40MB\n",
      "array([[[10, 11,  7, ..., 11,  9,  6],\n",
      "        [ 7,  8,  5, ...,  7,  5,  8],\n",
      "        [ 6,  9,  7, ..., 10,  8, 12],\n",
      "        ...,\n",
      "        [12, 10, 13, ...,  8,  7,  9],\n",
      "        [12,  5,  5, ..., 11,  8, 12],\n",
      "        [ 2, 12, 16, ..., 11,  5, 12]]], dtype=int64)\n",
      "Coordinates:\n",
      "  * chain             (chain) int32 4B 0\n",
      "  * draw              (draw) int32 2kB 0 1 2 3 4 5 6 ... 494 495 496 497 498 499\n",
      "  * total_ones_dim_0  (total_ones_dim_0) int32 40kB 0 1 2 3 ... 9997 9998 9999\n"
     ]
    },
    {
     "data": {
      "text/plain": [
       "<xarray.DataArray 'total_ones' ()> Size: 8B\n",
       "array(0.0001588)"
      ],
      "text/html": [
       "<div><svg style=\"position: absolute; width: 0; height: 0; overflow: hidden\">\n",
       "<defs>\n",
       "<symbol id=\"icon-database\" viewBox=\"0 0 32 32\">\n",
       "<path d=\"M16 0c-8.837 0-16 2.239-16 5v4c0 2.761 7.163 5 16 5s16-2.239 16-5v-4c0-2.761-7.163-5-16-5z\"></path>\n",
       "<path d=\"M16 17c-8.837 0-16-2.239-16-5v6c0 2.761 7.163 5 16 5s16-2.239 16-5v-6c0 2.761-7.163 5-16 5z\"></path>\n",
       "<path d=\"M16 26c-8.837 0-16-2.239-16-5v6c0 2.761 7.163 5 16 5s16-2.239 16-5v-6c0 2.761-7.163 5-16 5z\"></path>\n",
       "</symbol>\n",
       "<symbol id=\"icon-file-text2\" viewBox=\"0 0 32 32\">\n",
       "<path d=\"M28.681 7.159c-0.694-0.947-1.662-2.053-2.724-3.116s-2.169-2.030-3.116-2.724c-1.612-1.182-2.393-1.319-2.841-1.319h-15.5c-1.378 0-2.5 1.121-2.5 2.5v27c0 1.378 1.122 2.5 2.5 2.5h23c1.378 0 2.5-1.122 2.5-2.5v-19.5c0-0.448-0.137-1.23-1.319-2.841zM24.543 5.457c0.959 0.959 1.712 1.825 2.268 2.543h-4.811v-4.811c0.718 0.556 1.584 1.309 2.543 2.268zM28 29.5c0 0.271-0.229 0.5-0.5 0.5h-23c-0.271 0-0.5-0.229-0.5-0.5v-27c0-0.271 0.229-0.5 0.5-0.5 0 0 15.499-0 15.5 0v7c0 0.552 0.448 1 1 1h7v19.5z\"></path>\n",
       "<path d=\"M23 26h-14c-0.552 0-1-0.448-1-1s0.448-1 1-1h14c0.552 0 1 0.448 1 1s-0.448 1-1 1z\"></path>\n",
       "<path d=\"M23 22h-14c-0.552 0-1-0.448-1-1s0.448-1 1-1h14c0.552 0 1 0.448 1 1s-0.448 1-1 1z\"></path>\n",
       "<path d=\"M23 18h-14c-0.552 0-1-0.448-1-1s0.448-1 1-1h14c0.552 0 1 0.448 1 1s-0.448 1-1 1z\"></path>\n",
       "</symbol>\n",
       "</defs>\n",
       "</svg>\n",
       "<style>/* CSS stylesheet for displaying xarray objects in jupyterlab.\n",
       " *\n",
       " */\n",
       "\n",
       ":root {\n",
       "  --xr-font-color0: var(--jp-content-font-color0, rgba(0, 0, 0, 1));\n",
       "  --xr-font-color2: var(--jp-content-font-color2, rgba(0, 0, 0, 0.54));\n",
       "  --xr-font-color3: var(--jp-content-font-color3, rgba(0, 0, 0, 0.38));\n",
       "  --xr-border-color: var(--jp-border-color2, #e0e0e0);\n",
       "  --xr-disabled-color: var(--jp-layout-color3, #bdbdbd);\n",
       "  --xr-background-color: var(--jp-layout-color0, white);\n",
       "  --xr-background-color-row-even: var(--jp-layout-color1, white);\n",
       "  --xr-background-color-row-odd: var(--jp-layout-color2, #eeeeee);\n",
       "}\n",
       "\n",
       "html[theme=\"dark\"],\n",
       "html[data-theme=\"dark\"],\n",
       "body[data-theme=\"dark\"],\n",
       "body.vscode-dark {\n",
       "  --xr-font-color0: rgba(255, 255, 255, 1);\n",
       "  --xr-font-color2: rgba(255, 255, 255, 0.54);\n",
       "  --xr-font-color3: rgba(255, 255, 255, 0.38);\n",
       "  --xr-border-color: #1f1f1f;\n",
       "  --xr-disabled-color: #515151;\n",
       "  --xr-background-color: #111111;\n",
       "  --xr-background-color-row-even: #111111;\n",
       "  --xr-background-color-row-odd: #313131;\n",
       "}\n",
       "\n",
       ".xr-wrap {\n",
       "  display: block !important;\n",
       "  min-width: 300px;\n",
       "  max-width: 700px;\n",
       "}\n",
       "\n",
       ".xr-text-repr-fallback {\n",
       "  /* fallback to plain text repr when CSS is not injected (untrusted notebook) */\n",
       "  display: none;\n",
       "}\n",
       "\n",
       ".xr-header {\n",
       "  padding-top: 6px;\n",
       "  padding-bottom: 6px;\n",
       "  margin-bottom: 4px;\n",
       "  border-bottom: solid 1px var(--xr-border-color);\n",
       "}\n",
       "\n",
       ".xr-header > div,\n",
       ".xr-header > ul {\n",
       "  display: inline;\n",
       "  margin-top: 0;\n",
       "  margin-bottom: 0;\n",
       "}\n",
       "\n",
       ".xr-obj-type,\n",
       ".xr-array-name {\n",
       "  margin-left: 2px;\n",
       "  margin-right: 10px;\n",
       "}\n",
       "\n",
       ".xr-obj-type {\n",
       "  color: var(--xr-font-color2);\n",
       "}\n",
       "\n",
       ".xr-sections {\n",
       "  padding-left: 0 !important;\n",
       "  display: grid;\n",
       "  grid-template-columns: 150px auto auto 1fr 0 20px 0 20px;\n",
       "}\n",
       "\n",
       ".xr-section-item {\n",
       "  display: contents;\n",
       "}\n",
       "\n",
       ".xr-section-item input {\n",
       "  display: inline-block;\n",
       "  opacity: 0;\n",
       "  height: 0;\n",
       "}\n",
       "\n",
       ".xr-section-item input + label {\n",
       "  color: var(--xr-disabled-color);\n",
       "}\n",
       "\n",
       ".xr-section-item input:enabled + label {\n",
       "  cursor: pointer;\n",
       "  color: var(--xr-font-color2);\n",
       "}\n",
       "\n",
       ".xr-section-item input:focus + label {\n",
       "  border: 2px solid var(--xr-font-color0);\n",
       "}\n",
       "\n",
       ".xr-section-item input:enabled + label:hover {\n",
       "  color: var(--xr-font-color0);\n",
       "}\n",
       "\n",
       ".xr-section-summary {\n",
       "  grid-column: 1;\n",
       "  color: var(--xr-font-color2);\n",
       "  font-weight: 500;\n",
       "}\n",
       "\n",
       ".xr-section-summary > span {\n",
       "  display: inline-block;\n",
       "  padding-left: 0.5em;\n",
       "}\n",
       "\n",
       ".xr-section-summary-in:disabled + label {\n",
       "  color: var(--xr-font-color2);\n",
       "}\n",
       "\n",
       ".xr-section-summary-in + label:before {\n",
       "  display: inline-block;\n",
       "  content: \"►\";\n",
       "  font-size: 11px;\n",
       "  width: 15px;\n",
       "  text-align: center;\n",
       "}\n",
       "\n",
       ".xr-section-summary-in:disabled + label:before {\n",
       "  color: var(--xr-disabled-color);\n",
       "}\n",
       "\n",
       ".xr-section-summary-in:checked + label:before {\n",
       "  content: \"▼\";\n",
       "}\n",
       "\n",
       ".xr-section-summary-in:checked + label > span {\n",
       "  display: none;\n",
       "}\n",
       "\n",
       ".xr-section-summary,\n",
       ".xr-section-inline-details {\n",
       "  padding-top: 4px;\n",
       "  padding-bottom: 4px;\n",
       "}\n",
       "\n",
       ".xr-section-inline-details {\n",
       "  grid-column: 2 / -1;\n",
       "}\n",
       "\n",
       ".xr-section-details {\n",
       "  display: none;\n",
       "  grid-column: 1 / -1;\n",
       "  margin-bottom: 5px;\n",
       "}\n",
       "\n",
       ".xr-section-summary-in:checked ~ .xr-section-details {\n",
       "  display: contents;\n",
       "}\n",
       "\n",
       ".xr-array-wrap {\n",
       "  grid-column: 1 / -1;\n",
       "  display: grid;\n",
       "  grid-template-columns: 20px auto;\n",
       "}\n",
       "\n",
       ".xr-array-wrap > label {\n",
       "  grid-column: 1;\n",
       "  vertical-align: top;\n",
       "}\n",
       "\n",
       ".xr-preview {\n",
       "  color: var(--xr-font-color3);\n",
       "}\n",
       "\n",
       ".xr-array-preview,\n",
       ".xr-array-data {\n",
       "  padding: 0 5px !important;\n",
       "  grid-column: 2;\n",
       "}\n",
       "\n",
       ".xr-array-data,\n",
       ".xr-array-in:checked ~ .xr-array-preview {\n",
       "  display: none;\n",
       "}\n",
       "\n",
       ".xr-array-in:checked ~ .xr-array-data,\n",
       ".xr-array-preview {\n",
       "  display: inline-block;\n",
       "}\n",
       "\n",
       ".xr-dim-list {\n",
       "  display: inline-block !important;\n",
       "  list-style: none;\n",
       "  padding: 0 !important;\n",
       "  margin: 0;\n",
       "}\n",
       "\n",
       ".xr-dim-list li {\n",
       "  display: inline-block;\n",
       "  padding: 0;\n",
       "  margin: 0;\n",
       "}\n",
       "\n",
       ".xr-dim-list:before {\n",
       "  content: \"(\";\n",
       "}\n",
       "\n",
       ".xr-dim-list:after {\n",
       "  content: \")\";\n",
       "}\n",
       "\n",
       ".xr-dim-list li:not(:last-child):after {\n",
       "  content: \",\";\n",
       "  padding-right: 5px;\n",
       "}\n",
       "\n",
       ".xr-has-index {\n",
       "  font-weight: bold;\n",
       "}\n",
       "\n",
       ".xr-var-list,\n",
       ".xr-var-item {\n",
       "  display: contents;\n",
       "}\n",
       "\n",
       ".xr-var-item > div,\n",
       ".xr-var-item label,\n",
       ".xr-var-item > .xr-var-name span {\n",
       "  background-color: var(--xr-background-color-row-even);\n",
       "  margin-bottom: 0;\n",
       "}\n",
       "\n",
       ".xr-var-item > .xr-var-name:hover span {\n",
       "  padding-right: 5px;\n",
       "}\n",
       "\n",
       ".xr-var-list > li:nth-child(odd) > div,\n",
       ".xr-var-list > li:nth-child(odd) > label,\n",
       ".xr-var-list > li:nth-child(odd) > .xr-var-name span {\n",
       "  background-color: var(--xr-background-color-row-odd);\n",
       "}\n",
       "\n",
       ".xr-var-name {\n",
       "  grid-column: 1;\n",
       "}\n",
       "\n",
       ".xr-var-dims {\n",
       "  grid-column: 2;\n",
       "}\n",
       "\n",
       ".xr-var-dtype {\n",
       "  grid-column: 3;\n",
       "  text-align: right;\n",
       "  color: var(--xr-font-color2);\n",
       "}\n",
       "\n",
       ".xr-var-preview {\n",
       "  grid-column: 4;\n",
       "}\n",
       "\n",
       ".xr-index-preview {\n",
       "  grid-column: 2 / 5;\n",
       "  color: var(--xr-font-color2);\n",
       "}\n",
       "\n",
       ".xr-var-name,\n",
       ".xr-var-dims,\n",
       ".xr-var-dtype,\n",
       ".xr-preview,\n",
       ".xr-attrs dt {\n",
       "  white-space: nowrap;\n",
       "  overflow: hidden;\n",
       "  text-overflow: ellipsis;\n",
       "  padding-right: 10px;\n",
       "}\n",
       "\n",
       ".xr-var-name:hover,\n",
       ".xr-var-dims:hover,\n",
       ".xr-var-dtype:hover,\n",
       ".xr-attrs dt:hover {\n",
       "  overflow: visible;\n",
       "  width: auto;\n",
       "  z-index: 1;\n",
       "}\n",
       "\n",
       ".xr-var-attrs,\n",
       ".xr-var-data,\n",
       ".xr-index-data {\n",
       "  display: none;\n",
       "  background-color: var(--xr-background-color) !important;\n",
       "  padding-bottom: 5px !important;\n",
       "}\n",
       "\n",
       ".xr-var-attrs-in:checked ~ .xr-var-attrs,\n",
       ".xr-var-data-in:checked ~ .xr-var-data,\n",
       ".xr-index-data-in:checked ~ .xr-index-data {\n",
       "  display: block;\n",
       "}\n",
       "\n",
       ".xr-var-data > table {\n",
       "  float: right;\n",
       "}\n",
       "\n",
       ".xr-var-name span,\n",
       ".xr-var-data,\n",
       ".xr-index-name div,\n",
       ".xr-index-data,\n",
       ".xr-attrs {\n",
       "  padding-left: 25px !important;\n",
       "}\n",
       "\n",
       ".xr-attrs,\n",
       ".xr-var-attrs,\n",
       ".xr-var-data,\n",
       ".xr-index-data {\n",
       "  grid-column: 1 / -1;\n",
       "}\n",
       "\n",
       "dl.xr-attrs {\n",
       "  padding: 0;\n",
       "  margin: 0;\n",
       "  display: grid;\n",
       "  grid-template-columns: 125px auto;\n",
       "}\n",
       "\n",
       ".xr-attrs dt,\n",
       ".xr-attrs dd {\n",
       "  padding: 0;\n",
       "  margin: 0;\n",
       "  float: left;\n",
       "  padding-right: 10px;\n",
       "  width: auto;\n",
       "}\n",
       "\n",
       ".xr-attrs dt {\n",
       "  font-weight: normal;\n",
       "  grid-column: 1;\n",
       "}\n",
       "\n",
       ".xr-attrs dt:hover span {\n",
       "  display: inline-block;\n",
       "  background: var(--xr-background-color);\n",
       "  padding-right: 10px;\n",
       "}\n",
       "\n",
       ".xr-attrs dd {\n",
       "  grid-column: 2;\n",
       "  white-space: pre-wrap;\n",
       "  word-break: break-all;\n",
       "}\n",
       "\n",
       ".xr-icon-database,\n",
       ".xr-icon-file-text2,\n",
       ".xr-no-icon {\n",
       "  display: inline-block;\n",
       "  vertical-align: middle;\n",
       "  width: 1em;\n",
       "  height: 1.5em !important;\n",
       "  stroke-width: 0;\n",
       "  stroke: currentColor;\n",
       "  fill: currentColor;\n",
       "}\n",
       "</style><pre class='xr-text-repr-fallback'>&lt;xarray.DataArray &#x27;total_ones&#x27; ()&gt; Size: 8B\n",
       "array(0.0001588)</pre><div class='xr-wrap' style='display:none'><div class='xr-header'><div class='xr-obj-type'>xarray.DataArray</div><div class='xr-array-name'>'total_ones'</div></div><ul class='xr-sections'><li class='xr-section-item'><div class='xr-array-wrap'><input id='section-9260fe00-4c88-471f-8a7c-f72f76abd960' class='xr-array-in' type='checkbox' checked><label for='section-9260fe00-4c88-471f-8a7c-f72f76abd960' title='Show/hide data repr'><svg class='icon xr-icon-database'><use xlink:href='#icon-database'></use></svg></label><div class='xr-array-preview xr-preview'><span>0.0001588</span></div><div class='xr-array-data'><pre>array(0.0001588)</pre></div></div></li><li class='xr-section-item'><input id='section-ef898867-6dad-4dc8-9ac6-86f89141a5a7' class='xr-section-summary-in' type='checkbox' disabled ><label for='section-ef898867-6dad-4dc8-9ac6-86f89141a5a7' class='xr-section-summary'  title='Expand/collapse section'>Coordinates: <span>(0)</span></label><div class='xr-section-inline-details'></div><div class='xr-section-details'><ul class='xr-var-list'></ul></div></li><li class='xr-section-item'><input id='section-cd2bf73a-1dca-4c3b-84d3-7a40d9d15162' class='xr-section-summary-in' type='checkbox' disabled ><label for='section-cd2bf73a-1dca-4c3b-84d3-7a40d9d15162' class='xr-section-summary'  title='Expand/collapse section'>Indexes: <span>(0)</span></label><div class='xr-section-inline-details'></div><div class='xr-section-details'><ul class='xr-var-list'></ul></div></li><li class='xr-section-item'><input id='section-b614d9f1-6828-4c44-bdb3-f5d2a3b03511' class='xr-section-summary-in' type='checkbox' disabled ><label for='section-b614d9f1-6828-4c44-bdb3-f5d2a3b03511' class='xr-section-summary'  title='Expand/collapse section'>Attributes: <span>(0)</span></label><div class='xr-section-inline-details'></div><div class='xr-section-details'><dl class='xr-attrs'></dl></div></li></ul></div></div>"
      ]
     },
     "execution_count": 4,
     "metadata": {},
     "output_type": "execute_result"
    }
   ],
   "execution_count": 4
  },
  {
   "cell_type": "markdown",
   "id": "39d635f05555a39a",
   "metadata": {},
   "source": [
    "## try to create search_or()\n",
    "### page 18 of Handout #2"
   ]
  },
  {
   "cell_type": "code",
   "id": "b44ee07028c23052",
   "metadata": {
    "ExecuteTime": {
     "end_time": "2024-12-02T09:28:14.280628Z",
     "start_time": "2024-12-02T09:28:14.273550Z"
    }
   },
   "source": [
    "import string\n",
    "import pandas as pd\n",
    "from IPython.display import display, Markdown\n",
    "\n",
    "display(Markdown(\"<style>.jp-OutputArea pre {white-space: pre;}</style>}\"))\n",
    "\n",
    "def get_and_clean_data():\n",
    "    data = pd.read_csv('data/software_developer_united_states_1971_20191023_1.csv')\n",
    "    description = data['job_description']\n",
    "    cleaned_description = description.apply(lambda s: s.translate(str.maketrans('', '', string.punctuation + u'\\xa0')))\n",
    "    cleaned_description = cleaned_description.apply(lambda s: s.lower())\n",
    "    cleaned_description = cleaned_description.apply(lambda s:\n",
    "s.translate(str.maketrans(string.whitespace, ' '*len(string.whitespace), '')))\n",
    "    cleaned_description = cleaned_description.drop_duplicates()\n",
    "    return cleaned_description\n",
    "\n",
    "def simple_tokenize(data):\n",
    "    cleaned_description = data.apply(lambda s: [x.strip() for x in s.split()])\n",
    "    return cleaned_description\n",
    "\n",
    "def parse_job_description():\n",
    "    cleaned_description = get_and_clean_data()\n",
    "    cleaned_description = simple_tokenize(cleaned_description)\n",
    "    return cleaned_description"
   ],
   "outputs": [
    {
     "data": {
      "text/plain": [
       "<IPython.core.display.Markdown object>"
      ],
      "text/markdown": "<style>.jp-OutputArea pre {white-space: pre;}</style>}"
     },
     "metadata": {},
     "output_type": "display_data"
    }
   ],
   "execution_count": 5
  },
  {
   "metadata": {},
   "cell_type": "markdown",
   "source": "### inverse_indexing()",
   "id": "f46f2c50744a8758"
  },
  {
   "cell_type": "code",
   "id": "91908ad0634a8",
   "metadata": {
    "ExecuteTime": {
     "end_time": "2024-12-02T09:28:14.300049Z",
     "start_time": "2024-12-02T09:28:14.295934Z"
    }
   },
   "source": [
    "def inverse_indexing(parsed_description):\n",
    "    sw_set = set(stopwords.words()) - {'c'}\n",
    "    # Preprocess: remove stop words and then stem\n",
    "    no_sw_description = parsed_description.apply(lambda x: [w for w in x if w not in sw_set]) \n",
    "    ps = PorterStemmer()\n",
    "    stemmed_description = no_sw_description.apply(lambda x: set([ps.stem(w) for w in x]))\n",
    "    all_unique_term = list(set.union(*stemmed_description.to_list())) # Create the inverted index\n",
    "    \n",
    "    invert_idx = {}\n",
    "    for s in all_unique_term:\n",
    "        invert_idx[s] = set(stemmed_description.loc[stemmed_description.apply(lambda x: s in x)].index)\n",
    "        \n",
    "    return invert_idx\n"
   ],
   "outputs": [],
   "execution_count": 6
  },
  {
   "metadata": {},
   "cell_type": "markdown",
   "source": "### search_and()",
   "id": "9ac89679431eb59d"
  },
  {
   "metadata": {
    "ExecuteTime": {
     "end_time": "2024-12-02T09:28:14.321141Z",
     "start_time": "2024-12-02T09:28:14.317065Z"
    }
   },
   "cell_type": "code",
   "source": [
    "def search_and(invert_idx, query):\n",
    "    ps = PorterStemmer()\n",
    "    processed_query = [s.lower() for s in query.split()] # Preprocess query\n",
    "    stemmed = [ps.stem(s) for s in processed_query]\n",
    "    matched = list(set.intersection(*[invert_idx[s] for s in stemmed if s in invert_idx])) # Intersect means AND\n",
    "    return matched"
   ],
   "id": "867c6f2a0baccfb0",
   "outputs": [],
   "execution_count": 7
  },
  {
   "metadata": {},
   "cell_type": "markdown",
   "source": "### search_or()",
   "id": "263a13b5f7187580"
  },
  {
   "metadata": {
    "ExecuteTime": {
     "end_time": "2024-12-02T09:28:14.337812Z",
     "start_time": "2024-12-02T09:28:14.333767Z"
    }
   },
   "cell_type": "code",
   "source": [
    "def search_or(invert_idx, query):\n",
    "    ps = PorterStemmer()\n",
    "    processed_query = [s.lower() for s in query.split()]\n",
    "    stemmed = [ps.stem(s) for s in processed_query]\n",
    "    matched = list(set.union(*[invert_idx[s] for s in stemmed if s in invert_idx])) # Union means OR\n",
    "    return matched"
   ],
   "id": "a99c2e8b0ef6206a",
   "outputs": [],
   "execution_count": 8
  },
  {
   "metadata": {
    "ExecuteTime": {
     "end_time": "2024-12-02T09:29:48.901370Z",
     "start_time": "2024-12-02T09:28:14.351003Z"
    }
   },
   "cell_type": "code",
   "source": [
    "if __name__ == '__main__':\n",
    "    parsed_description = parse_job_description() \n",
    "    invert_idx = inverse_indexing(parsed_description)\n",
    "    query = 'java oracle'\n",
    "    matched = search_and(invert_idx, query)\n",
    "    matched_or = search_or(invert_idx, query)"
   ],
   "id": "d161441c7133ca43",
   "outputs": [],
   "execution_count": 9
  },
  {
   "metadata": {
    "ExecuteTime": {
     "end_time": "2024-12-02T09:29:49.012463Z",
     "start_time": "2024-12-02T09:29:48.936898Z"
    }
   },
   "cell_type": "code",
   "source": [
    "print(parsed_description.apply(lambda s: 'java' in s).sum())\n",
    "print(parsed_description.apply(lambda s: 'oracle' in s).sum())"
   ],
   "id": "ced29ce67a0cc687",
   "outputs": [
    {
     "name": "stdout",
     "output_type": "stream",
     "text": [
      "3268\n",
      "1392\n"
     ]
    }
   ],
   "execution_count": 10
  },
  {
   "metadata": {
    "ExecuteTime": {
     "end_time": "2024-12-02T09:29:49.127675Z",
     "start_time": "2024-12-02T09:29:49.082415Z"
    }
   },
   "cell_type": "code",
   "source": [
    "print(f\"Number of documents matching AND: {len(matched)}\")\n",
    "display(Markdown(\"\\n**AND Search Results:**\"))\n",
    "display(Markdown(parsed_description.loc[matched].apply(lambda x: ' '.join(x)).head(5).to_markdown()))"
   ],
   "id": "13a1eb136a8b708a",
   "outputs": [
    {
     "name": "stdout",
     "output_type": "stream",
     "text": [
      "Number of documents matching AND: 914\n"
     ]
    },
    {
     "data": {
      "text/plain": [
       "<IPython.core.display.Markdown object>"
      ],
      "text/markdown": "\n**AND Search Results:**"
     },
     "metadata": {},
     "output_type": "display_data"
    },
    {
     "data": {
      "text/plain": [
       "<IPython.core.display.Markdown object>"
      ],
      "text/markdown": "|      | job_description                                                                                                                                                                                                                                                                                                                                                                                                                                                                                                                                                                                                                                                                                                                                                                                                                                                                                                                                                                                                                                                                                                                                                                                                                                                                                                                                                                                                                                                                                                                                                                                                                                                                                                                                                                                                                                                                                                                                                                                                                                                                                                                                                                                                                                                                                                                                                                                                                                                                                                                                                                                                                                                                                                                                                                                                                                                                                                                                                                                                                                                                                                                                                                                                                                                                                                                                                                                                                                                                                                                                                                                                                                                                                                                                                                                                                                                                                                                                                                                                                                                                                                                                                                                                                                                                                                                                                                                                                                                                                                                                                                                                                                                                                                                                                                                                                                                                                                                                                                                                                                                                                                                                                                              |\n|-----:|:---------------------------------------------------------------------------------------------------------------------------------------------------------------------------------------------------------------------------------------------------------------------------------------------------------------------------------------------------------------------------------------------------------------------------------------------------------------------------------------------------------------------------------------------------------------------------------------------------------------------------------------------------------------------------------------------------------------------------------------------------------------------------------------------------------------------------------------------------------------------------------------------------------------------------------------------------------------------------------------------------------------------------------------------------------------------------------------------------------------------------------------------------------------------------------------------------------------------------------------------------------------------------------------------------------------------------------------------------------------------------------------------------------------------------------------------------------------------------------------------------------------------------------------------------------------------------------------------------------------------------------------------------------------------------------------------------------------------------------------------------------------------------------------------------------------------------------------------------------------------------------------------------------------------------------------------------------------------------------------------------------------------------------------------------------------------------------------------------------------------------------------------------------------------------------------------------------------------------------------------------------------------------------------------------------------------------------------------------------------------------------------------------------------------------------------------------------------------------------------------------------------------------------------------------------------------------------------------------------------------------------------------------------------------------------------------------------------------------------------------------------------------------------------------------------------------------------------------------------------------------------------------------------------------------------------------------------------------------------------------------------------------------------------------------------------------------------------------------------------------------------------------------------------------------------------------------------------------------------------------------------------------------------------------------------------------------------------------------------------------------------------------------------------------------------------------------------------------------------------------------------------------------------------------------------------------------------------------------------------------------------------------------------------------------------------------------------------------------------------------------------------------------------------------------------------------------------------------------------------------------------------------------------------------------------------------------------------------------------------------------------------------------------------------------------------------------------------------------------------------------------------------------------------------------------------------------------------------------------------------------------------------------------------------------------------------------------------------------------------------------------------------------------------------------------------------------------------------------------------------------------------------------------------------------------------------------------------------------------------------------------------------------------------------------------------------------------------------------------------------------------------------------------------------------------------------------------------------------------------------------------------------------------------------------------------------------------------------------------------------------------------------------------------------------------------------------------------------------------------------------------------------------------------------------------------------|\n| 8197 | principal software developer at liberty mutual we give motivated accomplished professionals the opportunity to help us redefine what insurance means to work for a global leader with a deep sense of humanity and a focus on improving and protecting everyday lives we create an inspired collaborative environment where people can take ownership of their work push breakthrough ideas and feel confident that their contributions will be valued and their growth championed we’re dedicated to doing the right thing for our employees because we know that their fulfillment and success leads us to great places life happiness innovation impact advancement whatever their pursuit talented people find their path at liberty mutual about the job we are looking for an experienced leadershiporiented software engineer to join an agile squad on our agile release train in business lines you’ll be part of our global retail markets technology team supporting our small commercial policy administration system called ecliq enhanced commercial lines internet quote delivering technology solutions in support of our release train mission you will have the opportunity to leverage your leadership and mentoring skills while working with cloudbased technology to build tools and solutions used to support new and innovative insurance products you will architect solutions for the next generation technology solutions on a modern technology stack consisting of java spring boot angular pivotal cloud foundry and aws in this role you will drive a culture of innovation and learning while modeling the liberty mutual core behaviors use java spring boot and angular to develop cloudhosted api first web applications handle endtoend development including coding testing and debugging work with scrum masters product owners and peers to iteratively create software that meets business and technical requirements analyze defects and design and implement effective solutions create and maintain technical documentation develop automated tests for multiple scopes unit system integration regression partner with other developers to collectively grow and develop our software engineering technology skills highly competitive applicants will have the following experience driving platform modernization initiatives cloud deployment and technologies such as aws docker java nodejs spring boot familiarity with cicd and devops tools strong enterpriselevel software development experience in an objectoriented language preferably javaj2ee solid programming discipline unit testing fault tolerance data structures complexity analysis objectoriented principles design patterns etc oracle sql server db2 experience working in an agile environment scrum kanban xp etc is preferred an evident appreciation of current and emerging technology trends qualifications bachelors or masters degree in technical or business discipline or equivalent experience desire to see others grow in their ability experience in mentoring and coaching others in technology generally 7 years of professional experience in software development versed in diverse technologies and technical architecture principles and concepts including microservice architecture must be proactive demonstrate initiative and be a logical thinker extensive understanding of incremental delivery strong collaboration prioritization and adaptability skills benefits culture in grm us agent partner we embrace all of the values of our fortune 100 company and push our practices and technology skill sets to the next level in this organization we are an agile set of teams dedicated to helping impact the lives of thousands of customers every day we embrace a modern coworking style with exceptional worklife balance ergonomic work areas substantial benefits and bestinclass amenities liberty mutual is one of americas best employers for diversity and one of the best employers for women httpbitlylibertymutualbestplacestoworkforwomen one of the best employers for new grads httpbitlylibertymutualbestplacesfornewgrads and one of the best places to work httpbitlylibertymutualbestplacestowork we offer excellent benefits for our employees including generous parental leave retirement plans including 401k and pension education reimbursement commuter benefits college savings plans and much more to learn more about our benefit offerings and culture please visit httpslmicobenefits httpbitlylibertymutualculture eoe statement liberty mutual is an equal opportunity employer we embrace an environment that is free from all discrimination in the workplace in its business or by its vendors liberty mutual values diversity and the differences and similarities of our employees we foster a diverse and inclusive work environment that leads to better ideas stronger teams and more innovative products and services for our customers learn more                                                                                                                                         |\n|   10 | job summary biotelemetry provides realtime remote heart monitoring and analysis using our own innovative hardware and software products come join our team and have a positive impact on the lives of patients we are currently looking for a senior java software engineer with richclient experience to help in the design and development of the next generation of applications to support our current and future medical device products the senior java developer will design develop test document customize and implement software applications to support business requirements as well as current and future medical device products heshe will lead the development of business critical applications and new messaging frame work engine using the latest javajee and web technologies by following approved life cycle methodologies creating design documents and performing program coding and testing in addition to resolving technical issues through debugging research and investigation the incumbent will contribute as a strong handson technical member in project development activities the translation of requirements into system design specifications and the implementation of systems throughout the entire software development life cycle duties and responsibilities essential functions • maintaining and enhancing our current generation of software products used by physicians ecg technicians and internal business operations • develop java software modules using javajee and database related technologies manage and deliver enterprise level applications in a cloud web based distributed java jee environment • define architecture requirements and performance standards to meet or exceed management and customer specifications work closely with product development team to translate requirements into highquality timely deliverables • develop production ready clean unittested and refactored code in developing architectural roadmaps while providing expertise on the platform architecture • since this team provides software that supports a 247 operational support facility interaction with end users that includes live support is required • participate in design activities and own the development of the work assigned work closely with qa and integration team to resolve issues • perform other duties and responsibilities as assigned qualifications and education requirements • bachelor’s degree in computer science software engineering or similar field or equivalent combination of education and experience • five 5 or more years’ experience designing developing and debugging distributed java web applications • strong experience with ormopen source frameworks hibernate core java and spring framework ie spring mvc spring data spring security and j2ee platform including ejb jms servlets and jsp • hands on experience in databases such as sql server mysql demonstrated proficiency in writing complex db queries and performing sql analysis and tuning • experience with latest messaging technologies ie rabbit mq tibco • solid grasp of architectural design patterns particularly as it applies to scaling web services • experience with integrated development environments ie intellij eclipse • experience with versioning and revision control systems ie subversion • experience with web services ie restsoap • experience with agile methodologies and in designing software solutions comfortable with agile development practices such as unit tests and code reviews • ability to effectively communicate and collaborate with business stakeholders • demonstrated process organization and collaborative skills and ability to work well within a team • selfstarter with the ability to handle multiple tasks and priorities within a fastpaced work environment additional preferred technical skills • development languages eg c javajee scripting and other languages eg sh csh bash ksh python javascript uml ajax json xml html html5 css jquery andor perl • experience with installation and administration of application servers ie weblogic jboss tomcat glass fish wildfly • experience with build automation tools ie maven ant • experience with relational database concepts such as oracle udb sql server data modeling administration ie dml ddl • experience with configuration management tools ie jira clearcase subversion andor git • experience with continuous integration and build systems ie jenkins fisheye cruisecontrol bamboo nexus • database tools and design eg oracle postgres sql mongodb allegrograph nosql allegrograph rdf andor sparql biotelemetry services is an equal opportunity employer all qualified applicants will receive consideration for employment without regard to age color national origin citizenship status physical or mental disability race religion creed gender sex sexual orientation gender identity andor expression genetic information marital status status with regard to public assistance veteran status or any other characteristic protected by federal state or local law dce sg cb |\n| 4108 | 45 55 an hour contract responsible for the technical evaluation design coding testing and documentation of complex corporate solutions built on third party software products this involves review of functional requirements gathered by business analysts creation of technical specifications development according to specification use cases the engineer will also support the implementation project by troubleshooting system configuration product installation and other technical issues both internally and for clients technical skills experience strong experience in java sql plsql strong experience xml java script html strong understanding web services soap and restful services experience in subversion code repository maven build tool knowledge in j2ee technologies spring hibernate dependency injection experience in application server like tomcat experience database skills in oracle and ms sql server data migration experience bi tools experience willing to work with minimum guidance and learn new technologies as required job types fulltime contract salary 4500 to 5500 hour experience java 5 years required j2ee 4 years required sql 4 years required work authorization united states required responsible for the technical evaluation design coding testing and documentation of complex corporate solutions built on third party software products this involves review of functional requirements gathered by business analysts creation of technical specifications development according to specification use cases the engineer will also support the implementation project by troubleshooting system configuration product installation and other technical issues both internally and for clients technical skills experience strong experience in java sql plsql strong experience xml java script html strong understanding web services soap and restful services experience in subversion code repository maven build tool knowledge in j2ee technologies spring hibernate dependency injection experience in application server like tomcat experience database skills in oracle and ms sql server data migration experience bi tools experience willing to work with minimum guidance and learn new technologies as required job types fulltime contract salary 4500 to 5500 hour experience java 5 years required j2ee 4 years required sql 4 years required work authorization united states required                                                                                                                                                                                                                                                                                                                                                                                                                                                                                                                                                                                                                                                                                                                                                                                                                                                                                                                                                                                                                                                                                                                                                                                                                                                                                                                                                                                                                                                                                                                                                                                                                                                                                                                                                                                                                                                                                                                                                                                                                                                                                                                                                                                                                                                                                                                                                                                                                                                                                                                                                                                                                                                                                                                     |\n|   16 | read what people are saying about working here company department description swift provides the platform messaging standards and products services to over 10500 customers in 215 countries and territories our employees are the foundation of this success swift has an unique corporate mindset where diversity personal development and networking are actively encouraged and we think youll like our office culture built around the way we work to achieve a healthier worklife balance if you want to be part of our dynamic multicultural institution with over 2400 employees of 75 nationalities in 26 offices worldwide then explore the vast opportunities rewards and internationally competitive packages that we are waiting for you here at swift responsibilities your responsibilities will be to design develop integrate third party components test install and support programssystems analyse detailed system factors inputoutput requirements information flow hardwaresoftware requirements kernel settings etc… evaluate and recommend technical feasibility and estimates of the proposed solutions participate in the definition and implementation of software components in collaboration with third party software providers prepare operating procedures provide technical assistance to colleagues and assist in resolving problems reported by other team members develop and maintain technical documentation and prepare and give presentations to customers on systems where appropriate write system documentation and operating procedures supporte the delivered software and become part of a center of expertise problem solving team qualifications education university degree in information technology or equivalent work experience experience 1 to 2 years of experience in systems development professional knowledge and expertise the candidate should have had relevant exposure to the development of highly scalable resilient and secure software technical skills oo programming techniques design patterns c techniques memory management multiprocessing multithreading clustering shell scripting kornshell perl tcl static and dynamic libraries cc compilers linkers debuggers profilers java knowledge is an asset exposure to various os platforms windows unix oracle solaris aix hpux linux redhat common development on multiplatform and vm environment ipc and kernel settings management network protocols tcpip ssltls https udp snmp communication middleware web technologies web services soap ibm websphere mq is an asset xml parsing methods xml schema xslt xpath database technologies oracle cassandra security technologies pki hmac aes digest algorithms ssl hardware tokens hsm software development environments and tools configuration management clearcase integrated development environment visual studio or eclipse change management familiarity with development and integration using swift interfaces products for swiftnet interact fileact fin and swiftnet browse is a strong asset soft skills adaptability and responsiveness to change take accountability for delivering results strong communication skills both written and oral planning and organising quality orientation team orientation open communication                                                                                                                                                                                                                                                                                                                                                                                                                                                                                                                                                                                                                                                                                                                                                                                                                                                                                                                                                                                                                                                                                                                                                                                                                                                                                                                                                                                                                                                                                                                                                                                                                                                                                                                                                                                                                                                                    |\n| 2064 | read what people are saying about working here gdit is seeking a java software engineer to support a large identity and access management idam contract the java software developer will be working in a multitiered environment and will build java applications for a government client the java developer will configure and modifyintegrate cots products related to identity and access management areas where needed the candidate for this position will build restful web services and reusable components to support overall project objectives the java developer will participate in the entire software development lifecycle including unit testing regression testing deployment and automation researches designs develops andor modifies enterprisewide systems andor applications software education babs in computer science or related field qualifications 10 years of relevant experience required skillsexperience ability to develop and enhance java applications aligned with architecture and platforms proposed for existing and new software experience with overall java development methodologies to perform routine development automated unit testing and troubleshooting tasks experience with jsf development cots integration experience experience building web services experience with oracle and sqlserver familiarity with integration tools such as jenkins and git willingness to learn new tools and techniques to complete tasks principals of lightweight directory access protocol ldap principals of public key infrastructure pki and public key enabling pke developing and revising technical documentation participates in special projects as required desired skillsexperience familiarity with identity and access management technology and tools familiarity with configuration management tools such as puppet familiarity with application migration and development in aws familiarity with developing messageoriented solutions with java general linux management through the command line and use of command line text editor familiarity with radiant logic icsvds familiarity with sailpoint servicenow benefits of this position opportunity for fast growth within the program onsite gym – get your workout in before work during your lunch break or at the end of the day professional development assistance – covering the cost of obtaining professional technical certifications depending on program educational reimbursement – toward degree programs and individual coursework 401k match – with 100 vesting on day one health dental and vision coverage to keep you healthy starting your first day we know worklife balance is important gdit offers paid time off plus 10 paid holidays parking and transit commuter benefits why work at general dynamics it work with top talent and some of the brightest minds in your field support missions that make a difference to our nation become part of an organization that that is committed to the highest ethical standards in all that we do thrive in the stability of a large organization with the ability to move onto new opportunities supporting different missions building your career within gdit want to move or find a job close to home we have positions in several locations in the united states and the world enjoy a culture that supports worklife balance general dynamics is a fortune blue ribbon company and clearance jobs top 10 government contractor about general dynamics information technology solves our customers’ challenges through futurefocused technology and services ingenuity and deep missionknowledge partnering with government defense the intelligence community industry leaders and cuttingedge technology companies we deliver solutions that make a difference – helping our customers to advance mission performance transform operations and discover opportunities to build a better future isdcj dpost general dynamics information technology solves our customers’ biggest challenges through smart futurefocused technology and services i                                                                                                                                                                                                                                                                                                                                                                                                                                                                                                                                                                                                                                                                                                                                                                                                                                                                                                                                                                                                                                                      |"
     },
     "metadata": {},
     "output_type": "display_data"
    }
   ],
   "execution_count": 11
  },
  {
   "metadata": {
    "ExecuteTime": {
     "end_time": "2024-12-02T09:29:49.292264Z",
     "start_time": "2024-12-02T09:29:49.214052Z"
    }
   },
   "cell_type": "code",
   "source": [
    "print(f\"Number of documents matching OR: {len(matched_or)}\")\n",
    "display(Markdown(\"\\n**OR Search Results:**\"))\n",
    "display(Markdown(parsed_description.loc[matched_or].apply(lambda x: ' '.join(x)).head(5).to_markdown()))"
   ],
   "id": "c1355b8accc3eba8",
   "outputs": [
    {
     "name": "stdout",
     "output_type": "stream",
     "text": [
      "Number of documents matching OR: 3747\n"
     ]
    },
    {
     "data": {
      "text/plain": [
       "<IPython.core.display.Markdown object>"
      ],
      "text/markdown": "\n**OR Search Results:**"
     },
     "metadata": {},
     "output_type": "display_data"
    },
    {
     "data": {
      "text/plain": [
       "<IPython.core.display.Markdown object>"
      ],
      "text/markdown": "|      | job_description                                                                                                                                                                                                                                                                                                                                                                                                                                                                                                                                                                                                                                                                                                                                                                                                                                                                                                                                                                                                                                                                                                                                                                                                                                                                                                                                                                                                                                                                                                                                                                                                                                                                                                                                                                                                                                                                                                                                                                                                                                                                                                                                                                                                                                                                                                                                                                                                                                                                                                                                                                                                                                                                                                                                                                                                                                                                                                                                                                                                                                                                                                                                                                                                                                                                                                                                                                                                                                                                                                                                                                                                                                                                                                                                                                                                                                                                                                                                                                                                                                                                                                                                                                                                                                                                                                                                                                                                                                                                                                                                                                                                                                                                                                                                                                                                                                                                                                                                                                                                                                                                                                                                                                              |\n|-----:|:---------------------------------------------------------------------------------------------------------------------------------------------------------------------------------------------------------------------------------------------------------------------------------------------------------------------------------------------------------------------------------------------------------------------------------------------------------------------------------------------------------------------------------------------------------------------------------------------------------------------------------------------------------------------------------------------------------------------------------------------------------------------------------------------------------------------------------------------------------------------------------------------------------------------------------------------------------------------------------------------------------------------------------------------------------------------------------------------------------------------------------------------------------------------------------------------------------------------------------------------------------------------------------------------------------------------------------------------------------------------------------------------------------------------------------------------------------------------------------------------------------------------------------------------------------------------------------------------------------------------------------------------------------------------------------------------------------------------------------------------------------------------------------------------------------------------------------------------------------------------------------------------------------------------------------------------------------------------------------------------------------------------------------------------------------------------------------------------------------------------------------------------------------------------------------------------------------------------------------------------------------------------------------------------------------------------------------------------------------------------------------------------------------------------------------------------------------------------------------------------------------------------------------------------------------------------------------------------------------------------------------------------------------------------------------------------------------------------------------------------------------------------------------------------------------------------------------------------------------------------------------------------------------------------------------------------------------------------------------------------------------------------------------------------------------------------------------------------------------------------------------------------------------------------------------------------------------------------------------------------------------------------------------------------------------------------------------------------------------------------------------------------------------------------------------------------------------------------------------------------------------------------------------------------------------------------------------------------------------------------------------------------------------------------------------------------------------------------------------------------------------------------------------------------------------------------------------------------------------------------------------------------------------------------------------------------------------------------------------------------------------------------------------------------------------------------------------------------------------------------------------------------------------------------------------------------------------------------------------------------------------------------------------------------------------------------------------------------------------------------------------------------------------------------------------------------------------------------------------------------------------------------------------------------------------------------------------------------------------------------------------------------------------------------------------------------------------------------------------------------------------------------------------------------------------------------------------------------------------------------------------------------------------------------------------------------------------------------------------------------------------------------------------------------------------------------------------------------------------------------------------------------------------------------------------------------|\n| 8197 | principal software developer at liberty mutual we give motivated accomplished professionals the opportunity to help us redefine what insurance means to work for a global leader with a deep sense of humanity and a focus on improving and protecting everyday lives we create an inspired collaborative environment where people can take ownership of their work push breakthrough ideas and feel confident that their contributions will be valued and their growth championed we’re dedicated to doing the right thing for our employees because we know that their fulfillment and success leads us to great places life happiness innovation impact advancement whatever their pursuit talented people find their path at liberty mutual about the job we are looking for an experienced leadershiporiented software engineer to join an agile squad on our agile release train in business lines you’ll be part of our global retail markets technology team supporting our small commercial policy administration system called ecliq enhanced commercial lines internet quote delivering technology solutions in support of our release train mission you will have the opportunity to leverage your leadership and mentoring skills while working with cloudbased technology to build tools and solutions used to support new and innovative insurance products you will architect solutions for the next generation technology solutions on a modern technology stack consisting of java spring boot angular pivotal cloud foundry and aws in this role you will drive a culture of innovation and learning while modeling the liberty mutual core behaviors use java spring boot and angular to develop cloudhosted api first web applications handle endtoend development including coding testing and debugging work with scrum masters product owners and peers to iteratively create software that meets business and technical requirements analyze defects and design and implement effective solutions create and maintain technical documentation develop automated tests for multiple scopes unit system integration regression partner with other developers to collectively grow and develop our software engineering technology skills highly competitive applicants will have the following experience driving platform modernization initiatives cloud deployment and technologies such as aws docker java nodejs spring boot familiarity with cicd and devops tools strong enterpriselevel software development experience in an objectoriented language preferably javaj2ee solid programming discipline unit testing fault tolerance data structures complexity analysis objectoriented principles design patterns etc oracle sql server db2 experience working in an agile environment scrum kanban xp etc is preferred an evident appreciation of current and emerging technology trends qualifications bachelors or masters degree in technical or business discipline or equivalent experience desire to see others grow in their ability experience in mentoring and coaching others in technology generally 7 years of professional experience in software development versed in diverse technologies and technical architecture principles and concepts including microservice architecture must be proactive demonstrate initiative and be a logical thinker extensive understanding of incremental delivery strong collaboration prioritization and adaptability skills benefits culture in grm us agent partner we embrace all of the values of our fortune 100 company and push our practices and technology skill sets to the next level in this organization we are an agile set of teams dedicated to helping impact the lives of thousands of customers every day we embrace a modern coworking style with exceptional worklife balance ergonomic work areas substantial benefits and bestinclass amenities liberty mutual is one of americas best employers for diversity and one of the best employers for women httpbitlylibertymutualbestplacestoworkforwomen one of the best employers for new grads httpbitlylibertymutualbestplacesfornewgrads and one of the best places to work httpbitlylibertymutualbestplacestowork we offer excellent benefits for our employees including generous parental leave retirement plans including 401k and pension education reimbursement commuter benefits college savings plans and much more to learn more about our benefit offerings and culture please visit httpslmicobenefits httpbitlylibertymutualculture eoe statement liberty mutual is an equal opportunity employer we embrace an environment that is free from all discrimination in the workplace in its business or by its vendors liberty mutual values diversity and the differences and similarities of our employees we foster a diverse and inclusive work environment that leads to better ideas stronger teams and more innovative products and services for our customers learn more                                                                                                                                         |\n| 8200 | bind is a health technology and services company founded in 2016 and headquartered in minneapolis mn with satellite offices in new york and san francisco bind is health insurance for the way we live now unlike traditional health insurance that charges you for services you may never need or want bind is on demand pay for what you need not what you dont and adjust your coverage when those needs change health coverage thats flexible clear and intuitive we are creative collaborative and a little bit fiery the bind team is comprised of likeminded individuals passionate about healthcare and our cause is the collective act of rewiring it we embrace new ideas were more wheel than cog more spark than smoke and we are playful and venturesome in our daily mission to render real and refreshing solutions to health insurance that works better for us all software developer – front end about you you enjoy working with colleagues you can rely on and learn from and you bring a lot to the table yourself you are willing to leave your ego at the door and are open to learning from those around you but you are also comfortable vigorously debating the right approach to solving problems you value an engineering culture rooted in collaboration humility trust responsibility and learning you stay up to speed on new technologies and introduce them to your teammates you possess 3 years of professional programming experience while we dont use all of them here at bind experience in angular 2 preferred css javascript and html are required and experience with java spring boot mysql and microservice architecture are great predictors of success have a passion for front end design and architecture you are an excellent communicator and collaborator especially with nontechnical coworkers what were offering chance to join a new health insurance plan based in minneapolis the possibility to positively affect change here at bind you can help define direct our technology direction as an organization opportunity to be part of one of the strongest development teams in the area the ability to work for an organization that is doing great things for health insurance consumer wed love it if you are proficient in javascript angular 2 css you like immutable data structures and pure functions js bonus if you have experience in java sql and microservice architecture you are very comfortable with git github you are familiar with and love agile development continuous build and deploy and the atlassian toolset you enjoy the idea of deploying your own code on your first day of work you are passionate about user experience whether that means going the extra mile to deliver a simple yet powerful ui or an api which even the most novice developer could master you write unit tests but are flexible with regard to testing frameworks and code coverage bind is committed to providing equal employment opportunities all qualified applicants and employees will be considered for employment and advancement without regard to race color religion national origin sex disability age marital status sexual orientation veteran status genetic information or any other status protected by applicable law                                                                                                                                                                                                                                                                                                                                                                                                                                                                                                                                                                                                                                                                                                                                                                                                                                                                                                                                                                                                                                                                                                                                                                                                                                                                                                                                                                                                                                                                                                                                                                                                                                                                                                                                                                                                                                                                                   |\n|   10 | job summary biotelemetry provides realtime remote heart monitoring and analysis using our own innovative hardware and software products come join our team and have a positive impact on the lives of patients we are currently looking for a senior java software engineer with richclient experience to help in the design and development of the next generation of applications to support our current and future medical device products the senior java developer will design develop test document customize and implement software applications to support business requirements as well as current and future medical device products heshe will lead the development of business critical applications and new messaging frame work engine using the latest javajee and web technologies by following approved life cycle methodologies creating design documents and performing program coding and testing in addition to resolving technical issues through debugging research and investigation the incumbent will contribute as a strong handson technical member in project development activities the translation of requirements into system design specifications and the implementation of systems throughout the entire software development life cycle duties and responsibilities essential functions • maintaining and enhancing our current generation of software products used by physicians ecg technicians and internal business operations • develop java software modules using javajee and database related technologies manage and deliver enterprise level applications in a cloud web based distributed java jee environment • define architecture requirements and performance standards to meet or exceed management and customer specifications work closely with product development team to translate requirements into highquality timely deliverables • develop production ready clean unittested and refactored code in developing architectural roadmaps while providing expertise on the platform architecture • since this team provides software that supports a 247 operational support facility interaction with end users that includes live support is required • participate in design activities and own the development of the work assigned work closely with qa and integration team to resolve issues • perform other duties and responsibilities as assigned qualifications and education requirements • bachelor’s degree in computer science software engineering or similar field or equivalent combination of education and experience • five 5 or more years’ experience designing developing and debugging distributed java web applications • strong experience with ormopen source frameworks hibernate core java and spring framework ie spring mvc spring data spring security and j2ee platform including ejb jms servlets and jsp • hands on experience in databases such as sql server mysql demonstrated proficiency in writing complex db queries and performing sql analysis and tuning • experience with latest messaging technologies ie rabbit mq tibco • solid grasp of architectural design patterns particularly as it applies to scaling web services • experience with integrated development environments ie intellij eclipse • experience with versioning and revision control systems ie subversion • experience with web services ie restsoap • experience with agile methodologies and in designing software solutions comfortable with agile development practices such as unit tests and code reviews • ability to effectively communicate and collaborate with business stakeholders • demonstrated process organization and collaborative skills and ability to work well within a team • selfstarter with the ability to handle multiple tasks and priorities within a fastpaced work environment additional preferred technical skills • development languages eg c javajee scripting and other languages eg sh csh bash ksh python javascript uml ajax json xml html html5 css jquery andor perl • experience with installation and administration of application servers ie weblogic jboss tomcat glass fish wildfly • experience with build automation tools ie maven ant • experience with relational database concepts such as oracle udb sql server data modeling administration ie dml ddl • experience with configuration management tools ie jira clearcase subversion andor git • experience with continuous integration and build systems ie jenkins fisheye cruisecontrol bamboo nexus • database tools and design eg oracle postgres sql mongodb allegrograph nosql allegrograph rdf andor sparql biotelemetry services is an equal opportunity employer all qualified applicants will receive consideration for employment without regard to age color national origin citizenship status physical or mental disability race religion creed gender sex sexual orientation gender identity andor expression genetic information marital status status with regard to public assistance veteran status or any other characteristic protected by federal state or local law dce sg cb |\n|   11 | are you the next best software developerengineer – selfcheckout if so we’re looking for you our client is actively seeking a talented software developerengineer – selfcheckout to work at their location in rtp nc this is a six month contract with the possibility of extending and potentially converting into a permanent position job overview the professional services software engineer designs builds and supports custom software solutions for some of the world’s largest retailers we provide services to retail clients worldwide by developing and delivering an array of custom software solutions such as pos selfcheckout and mobility solutions we seek energetic and skilled resources to work in a dynamic collaborative and everchanging environment this opportunity will support checkout environment for consumerservice chec the application that drives our selfcheckout solution our developers are involved in the entire project lifecycle they interact directly with our retail customers to understand and document requirements they collaborate with the implementation and test teams on design and development and they oversee delivery and provide ongoing support for their work key responsibilities this role requires demonstrated experience with the java and xml technologies that drive our selfcheckout solution the ideal candidate will excel in our fastpaced collaborative customerfirst environment and will contribute in a variety of ways including developing new custom function and assisting with defect support authoring functional specifications andor highlevel designs extending the automation continuous integration platform including tests working closely with the qa team to ensure a quality deliverable creating product documentation for endusers providing configuration installation and ongoing maintenance support providing technical guidance during requirements workshops with our customers providing technical input to the leadership team in the writing of client contracts mentoring contributing to our legacy of outstanding innovation through the inventionip process this role is based in research triangle park nc occasional travel to a customer site may be required requirements hard skill java 5 years some xml soft skill – interpersonal interaction contact with end customer spoken and written a bachelor’s degree in information systems computer science or a related field or equivalent professional experience exceptional written and verbal communication at least 5 years of javabased development experience with xml computer science fundamentals including objectoriented concepts data structures and related algorithms familiarity with the software engineering lifecycle and methodologies windows and linuxbased operating systems including software installation light administration and simple scripting additional preferred skills an interest in direct communication with customers including nontechnical audiences familiarity with retail concepts andor applications experience with retail pos applications and devices a master of science degree in information systems computer science or a related field job requisition 29035 apc believes that the workplace should be fun and enjoyable join our team today and ignite your career meet apc company – staffing – 501 – 1000 employees apc is a professional services organization focused on engaging people and positively impacting lives we offer excellent benefits and the opportunity for longevity working with our premier fortune 100 clients as professionals serving professionals we take pride in providing our employees with the highest level of customer service and support creating meaningful fulfilling and rewarding experiences every day apc is committed to creating a diverse work environment and is proud to be an equal opportunity employer all qualified individuals will receive consideration for employment without regard to race color religion national origin gender sexual orientation gender identity age disability genetics or veteran status                                                                                                                                                                                                                                                                                                                                                                                                                                                                                                                                                                                                                                                                                                                                                                                                                                                                                                                                                                                                 |\n|   12 | • excellent communication skills – both verbal and written are required • strong analytical and problemsolving skills • 710 years recent handson software development experience in a leanagile environment • expertise in java good track record of backend development • experience building web applications and restful web services spring boot • experience with test frameworks • strong interpersonal skills and the ability to work effectively with all levels of the organization • selfmotivated highly organized and able to prioritize and manage multiple projects simultaneously • entrepreneurial drive and demonstrated ability to flex across a variety of roles in an innovative fastpaced startup environment desired skills • experience with react and react native • experience with ios development swift • mobile applications development experience • javascript d3 • aws – lambda kinesis elastic search aurora elastichash redis • experience with google protobufs • strong technical and leadership skills decisive determined strategic and able to lead motivate and inspire others                                                                                                                                                                                                                                                                                                                                                                                                                                                                                                                                                                                                                                                                                                                                                                                                                                                                                                                                                                                                                                                                                                                                                                                                                                                                                                                                                                                                                                                                                                                                                                                                                                                                                                                                                                                                                                                                                                                                                                                                                                                                                                                                                                                                                                                                                                                                                                                                                                                                                                                                                                                                                                                                                                                                                                                                                                                                                                                                                                                                                                                                                                                                                                                                                                                                                                                                                                                                                                                                                                                                                                                                                                                                                                                                                                                                                                                                                                                                                                                                                                                                        |"
     },
     "metadata": {},
     "output_type": "display_data"
    }
   ],
   "execution_count": 12
  },
  {
   "metadata": {},
   "cell_type": "markdown",
   "source": [
    "## Page 58 of Handout #2\n",
    "- note: Change the data type to `int8` or `float32` to reduce memory usage."
   ],
   "id": "84294e8366555848"
  },
  {
   "metadata": {
    "ExecuteTime": {
     "end_time": "2024-12-02T09:31:28.252824Z",
     "start_time": "2024-12-02T09:29:49.327437Z"
    }
   },
   "cell_type": "code",
   "source": [
    "import pymc as pm\n",
    "import numpy as np\n",
    "\n",
    "num_nodes = 1000\n",
    "node_uptime = 0.99\n",
    "num_simulations = 10000\n",
    "\n",
    "# create pymc model \n",
    "with pm.Model() as model:\n",
    "    # Define the state of each node using a Bernoulli distribution\n",
    "    # Change the data type to int8 or float32 to reduce memory usage.\n",
    "    node_states = pm.Bernoulli('node_states', p=node_uptime, size=(num_simulations, num_nodes), dtype='int8') \n",
    "    \n",
    "    # Calculate the system uptime as the product of all node states\n",
    "    system_uptime = pm.math.prod(node_states, axis=1)\n",
    "    \n",
    "    # Define the mean system uptime as a deterministic variable\n",
    "    mean_system_uptime = pm.Deterministic('mean_system_uptime', pm.math.mean(system_uptime))\n",
    "    \n",
    "    # Perform prior predictive sampling\n",
    "    prior_checks = pm.sample_prior_predictive()"
   ],
   "id": "8f6cf73f2b9d7b22",
   "outputs": [
    {
     "name": "stderr",
     "output_type": "stream",
     "text": [
      "Sampling: [node_states]\n"
     ]
    }
   ],
   "execution_count": 13
  },
  {
   "metadata": {},
   "cell_type": "markdown",
   "source": [
    "### result\n",
    "- Number of operational nodes in each simulation (first 10 samples)"
   ],
   "id": "61717c327c3cf44d"
  },
  {
   "metadata": {
    "ExecuteTime": {
     "end_time": "2024-12-02T09:31:34.284453Z",
     "start_time": "2024-12-02T09:31:28.564577Z"
    }
   },
   "cell_type": "code",
   "source": [
    "# Extract node state samples from prior predictive results\n",
    "node_states_samples = prior_checks.prior['node_states'].values\n",
    "node_states_samples = np.squeeze(node_states_samples)\n",
    "\n",
    "# Compute count of operational nodes in each simulation\n",
    "nodes_up_count = np.sum(node_states_samples, axis=1)\n",
    "print(f\"Number of operational nodes in each simulation (first 10 samples): {nodes_up_count[:10]}\")\n",
    "nodes_up_count.shape"
   ],
   "id": "e8cdcf3ef2c7a24b",
   "outputs": [
    {
     "name": "stdout",
     "output_type": "stream",
     "text": [
      "Number of operational nodes in each simulation (first 10 samples): [[9895 9885 9897 ... 9897 9895 9892]\n",
      " [9901 9896 9914 ... 9898 9902 9899]\n",
      " [9915 9900 9900 ... 9897 9898 9901]\n",
      " ...\n",
      " [9899 9897 9906 ... 9908 9896 9909]\n",
      " [9894 9888 9907 ... 9907 9899 9898]\n",
      " [9902 9894 9896 ... 9893 9902 9899]]\n"
     ]
    },
    {
     "data": {
      "text/plain": [
       "(500, 1000)"
      ]
     },
     "execution_count": 14,
     "metadata": {},
     "output_type": "execute_result"
    }
   ],
   "execution_count": 14
  },
  {
   "metadata": {},
   "cell_type": "markdown",
   "source": [
    "### result\n",
    "- System uptime samples (first 10 samples)\n",
    "- Overall mean system uptime"
   ],
   "id": "eb94a84a60571f44"
  },
  {
   "metadata": {
    "ExecuteTime": {
     "end_time": "2024-12-02T09:31:34.456385Z",
     "start_time": "2024-12-02T09:31:34.447395Z"
    }
   },
   "cell_type": "code",
   "source": [
    "# Extract system uptime samples from prior predictive results\n",
    "system_uptime_samples = prior_checks.prior['mean_system_uptime'].values\n",
    "\n",
    "# Calculate overall mean system uptime\n",
    "overall_mean_system_uptime = np.mean(system_uptime_samples)\n",
    "\n",
    "# Print results\n",
    "print(f\"System uptime samples (first 10 samples): {system_uptime_samples[:10]}\")\n",
    "print(f\"Overall mean system uptime: {overall_mean_system_uptime}\")"
   ],
   "id": "cc3480c561c5f328",
   "outputs": [
    {
     "name": "stdout",
     "output_type": "stream",
     "text": [
      "System uptime samples (first 10 samples): [[0.     0.     0.0001 0.0001 0.     0.     0.0001 0.     0.     0.\n",
      "  0.     0.     0.     0.     0.     0.     0.0001 0.0001 0.     0.\n",
      "  0.0001 0.0001 0.     0.     0.     0.0001 0.     0.     0.0002 0.\n",
      "  0.     0.0001 0.     0.     0.0001 0.0001 0.0001 0.0001 0.     0.\n",
      "  0.0001 0.     0.0001 0.     0.     0.     0.     0.     0.     0.\n",
      "  0.0001 0.0001 0.     0.     0.     0.     0.     0.     0.     0.0002\n",
      "  0.0001 0.     0.     0.0002 0.     0.0001 0.0001 0.     0.     0.\n",
      "  0.     0.     0.     0.     0.     0.0002 0.     0.     0.     0.\n",
      "  0.0001 0.0001 0.     0.     0.0001 0.0001 0.     0.     0.     0.\n",
      "  0.0001 0.0002 0.0001 0.     0.     0.0001 0.     0.     0.0002 0.0001\n",
      "  0.     0.     0.0001 0.0001 0.     0.     0.     0.     0.     0.\n",
      "  0.0001 0.     0.     0.     0.     0.0001 0.     0.     0.0002 0.0001\n",
      "  0.0002 0.     0.0004 0.     0.0001 0.0001 0.     0.     0.     0.\n",
      "  0.     0.0001 0.     0.0001 0.0001 0.     0.0001 0.0001 0.0001 0.\n",
      "  0.0001 0.     0.0001 0.     0.     0.     0.0002 0.0001 0.     0.\n",
      "  0.     0.0003 0.     0.     0.0001 0.     0.0001 0.     0.     0.0001\n",
      "  0.0001 0.     0.0001 0.0003 0.     0.0001 0.     0.     0.0001 0.\n",
      "  0.     0.0002 0.0002 0.     0.     0.0001 0.     0.     0.     0.\n",
      "  0.0001 0.     0.0001 0.     0.0001 0.0001 0.     0.     0.0001 0.\n",
      "  0.0001 0.     0.0001 0.0001 0.     0.     0.     0.     0.     0.\n",
      "  0.     0.     0.     0.     0.0001 0.     0.     0.0002 0.     0.\n",
      "  0.     0.     0.     0.0001 0.     0.     0.     0.0001 0.     0.0001\n",
      "  0.     0.0003 0.     0.     0.     0.0001 0.0002 0.0001 0.     0.\n",
      "  0.     0.     0.     0.0001 0.0001 0.     0.     0.0001 0.     0.\n",
      "  0.     0.     0.     0.     0.     0.0001 0.     0.     0.0001 0.0002\n",
      "  0.     0.0002 0.     0.0001 0.     0.0001 0.     0.     0.0002 0.0001\n",
      "  0.     0.0001 0.     0.     0.     0.     0.     0.     0.0001 0.0001\n",
      "  0.     0.0001 0.     0.     0.     0.0002 0.0001 0.     0.     0.\n",
      "  0.0001 0.     0.     0.     0.     0.     0.     0.0001 0.0001 0.\n",
      "  0.     0.     0.     0.0001 0.0001 0.     0.     0.0001 0.0002 0.0001\n",
      "  0.     0.0001 0.     0.     0.0001 0.     0.     0.     0.0001 0.\n",
      "  0.     0.     0.     0.     0.0001 0.0001 0.0001 0.     0.     0.\n",
      "  0.     0.     0.0002 0.     0.     0.     0.0001 0.0001 0.     0.0001\n",
      "  0.     0.0001 0.     0.     0.     0.0001 0.0001 0.     0.0001 0.\n",
      "  0.     0.     0.0001 0.     0.     0.     0.     0.0001 0.0001 0.\n",
      "  0.0001 0.     0.0001 0.     0.0001 0.     0.     0.     0.     0.\n",
      "  0.0001 0.0001 0.     0.     0.     0.0001 0.     0.     0.0001 0.0002\n",
      "  0.     0.     0.     0.0001 0.0002 0.     0.     0.0001 0.     0.\n",
      "  0.     0.     0.0001 0.     0.     0.0002 0.0003 0.     0.     0.0001\n",
      "  0.     0.     0.0001 0.     0.     0.0002 0.     0.0002 0.     0.0001\n",
      "  0.     0.0002 0.     0.     0.0001 0.0001 0.     0.0002 0.0001 0.0001\n",
      "  0.0001 0.0002 0.     0.     0.     0.     0.     0.     0.0001 0.0003\n",
      "  0.     0.0003 0.0001 0.0001 0.     0.     0.0001 0.     0.0001 0.\n",
      "  0.0001 0.0002 0.0002 0.     0.     0.     0.     0.0001 0.     0.\n",
      "  0.     0.0001 0.     0.     0.     0.0001 0.0001 0.     0.     0.0001\n",
      "  0.0002 0.     0.     0.     0.     0.     0.0001 0.     0.0001 0.\n",
      "  0.     0.     0.     0.     0.0001 0.     0.     0.     0.     0.\n",
      "  0.0001 0.     0.     0.0001 0.0001 0.     0.0001 0.     0.     0.\n",
      "  0.     0.0001 0.     0.     0.0001 0.     0.     0.     0.0001 0.\n",
      "  0.     0.0001 0.0001 0.     0.     0.0001 0.     0.     0.     0.0001]]\n",
      "Overall mean system uptime: 4.540000000000001e-05\n"
     ]
    }
   ],
   "execution_count": 15
  },
  {
   "metadata": {
    "ExecuteTime": {
     "end_time": "2024-12-02T09:31:34.512825Z",
     "start_time": "2024-12-02T09:31:34.507998Z"
    }
   },
   "cell_type": "code",
   "source": [
    "theoretical_system_uptime = node_uptime ** num_nodes\n",
    "print(f\"Theoretical system uptime: {theoretical_system_uptime}\")"
   ],
   "id": "58664ebff9ff265",
   "outputs": [
    {
     "name": "stdout",
     "output_type": "stream",
     "text": [
      "Theoretical system uptime: 4.317124741065786e-05\n"
     ]
    }
   ],
   "execution_count": 16
  },
  {
   "metadata": {
    "ExecuteTime": {
     "end_time": "2024-12-02T09:31:34.557425Z",
     "start_time": "2024-12-02T09:31:34.552973Z"
    }
   },
   "cell_type": "code",
   "source": [
    "simulated_mean_uptime = np.mean(system_uptime_samples)\n",
    "difference = abs(overall_mean_system_uptime - theoretical_system_uptime)\n",
    "print(f\"Simulated mean uptime: {simulated_mean_uptime}\")\n",
    "print(f\"Difference between theoretical and simulated uptimes: {difference}\")\n"
   ],
   "id": "4dff9b8b334f1cc",
   "outputs": [
    {
     "name": "stdout",
     "output_type": "stream",
     "text": [
      "Simulated mean uptime: 4.540000000000001e-05\n",
      "Difference between theoretical and simulated uptimes: 2.22875258934215e-06\n"
     ]
    }
   ],
   "execution_count": 17
  },
  {
   "metadata": {},
   "cell_type": "markdown",
   "source": "## Page 67 of Handout #2",
   "id": "2ecadead2d55882e"
  },
  {
   "metadata": {
    "ExecuteTime": {
     "end_time": "2024-12-02T09:31:34.618204Z",
     "start_time": "2024-12-02T09:31:34.598691Z"
    }
   },
   "cell_type": "code",
   "source": [
    "# dense to sparse\n",
    "from numpy import array\n",
    "from scipy.sparse import coo_matrix, csr_matrix, csc_matrix, dok_matrix, lil_matrix\n",
    "# create dense matrix\n",
    "A = array([[1, 0, 0, 1, 0, 0], [0, 0, 2, 0, 0, 1], [0, 0, 0, 2, 0, 0]])\n",
    "print(A)\n",
    "\n",
    "# convert to sparse matrix (COO method)\n",
    "S = coo_matrix(A)\n",
    "print(S)\n",
    "\n",
    "print(S.tocsr()[:,3])\n",
    "\n",
    "# reconstruct dense matrix\n",
    "B = S.todense()\n",
    "print(B)"
   ],
   "id": "6efa98a5f26a22d1",
   "outputs": [
    {
     "name": "stdout",
     "output_type": "stream",
     "text": [
      "[[1 0 0 1 0 0]\n",
      " [0 0 2 0 0 1]\n",
      " [0 0 0 2 0 0]]\n",
      "<COOrdinate sparse matrix of dtype 'int32'\n",
      "\twith 5 stored elements and shape (3, 6)>\n",
      "  Coords\tValues\n",
      "  (0, 0)\t1\n",
      "  (0, 3)\t1\n",
      "  (1, 2)\t2\n",
      "  (1, 5)\t1\n",
      "  (2, 3)\t2\n",
      "<Compressed Sparse Row sparse matrix of dtype 'int32'\n",
      "\twith 2 stored elements and shape (3, 1)>\n",
      "  Coords\tValues\n",
      "  (0, 0)\t1\n",
      "  (2, 0)\t2\n",
      "[[1 0 0 1 0 0]\n",
      " [0 0 2 0 0 1]\n",
      " [0 0 0 2 0 0]]\n"
     ]
    }
   ],
   "execution_count": 18
  },
  {
   "metadata": {
    "ExecuteTime": {
     "end_time": "2024-12-02T09:31:40.073032Z",
     "start_time": "2024-12-02T09:31:34.658664Z"
    }
   },
   "cell_type": "code",
   "source": [
    "import timeit\n",
    "times = 100000\n",
    "timeit.timeit(lambda : dok_matrix(B), number=times)/times"
   ],
   "id": "312eda94bc41896c",
   "outputs": [
    {
     "data": {
      "text/plain": [
       "5.408109300071374e-05"
      ]
     },
     "execution_count": 19,
     "metadata": {},
     "output_type": "execute_result"
    }
   ],
   "execution_count": 19
  },
  {
   "metadata": {
    "ExecuteTime": {
     "end_time": "2024-12-02T09:31:47.599230Z",
     "start_time": "2024-12-02T09:31:40.160685Z"
    }
   },
   "cell_type": "code",
   "source": "timeit.timeit(lambda : lil_matrix(B), number=times)/times",
   "id": "137b3de3b23112e5",
   "outputs": [
    {
     "data": {
      "text/plain": [
       "7.432398000033572e-05"
      ]
     },
     "execution_count": 20,
     "metadata": {},
     "output_type": "execute_result"
    }
   ],
   "execution_count": 20
  },
  {
   "metadata": {
    "ExecuteTime": {
     "end_time": "2024-12-02T09:31:53.072992Z",
     "start_time": "2024-12-02T09:31:47.676600Z"
    }
   },
   "cell_type": "code",
   "source": "timeit.timeit(lambda : csr_matrix(B), number=times)/times",
   "id": "f2727265ae43796",
   "outputs": [
    {
     "data": {
      "text/plain": [
       "5.391302299918607e-05"
      ]
     },
     "execution_count": 21,
     "metadata": {},
     "output_type": "execute_result"
    }
   ],
   "execution_count": 21
  },
  {
   "metadata": {
    "ExecuteTime": {
     "end_time": "2024-12-02T09:31:58.441395Z",
     "start_time": "2024-12-02T09:31:53.144689Z"
    }
   },
   "cell_type": "code",
   "source": "timeit.timeit(lambda : csc_matrix(B), number=times)/times",
   "id": "5d52fe154414fdd5",
   "outputs": [
    {
     "data": {
      "text/plain": [
       "5.29193349997513e-05"
      ]
     },
     "execution_count": 22,
     "metadata": {},
     "output_type": "execute_result"
    }
   ],
   "execution_count": 22
  },
  {
   "metadata": {},
   "cell_type": "markdown",
   "source": "## Page 69 of Handout #2",
   "id": "6818cf305ddd25b8"
  },
  {
   "metadata": {
    "ExecuteTime": {
     "end_time": "2024-12-02T09:32:05.739007Z",
     "start_time": "2024-12-02T09:31:58.517299Z"
    }
   },
   "cell_type": "code",
   "source": [
    "import pandas as pd\n",
    "import string\n",
    "import re\n",
    "from nltk.tokenize import word_tokenize\n",
    "from nltk.corpus import stopwords\n",
    "from nltk.stem import PorterStemmer\n",
    "\n",
    "from ordered_set import OrderedSet\n",
    "#limit to just 1000 rows\n",
    "cleaned_description = get_and_clean_data()[:1000]\n",
    "\n",
    "#replace non alphabets with spaces, and collapse spaces\n",
    "cleaned_description = cleaned_description.apply(lambda s: re.sub(r'[^A-Za-z]', ' ', s))\n",
    "cleaned_description = cleaned_description.apply(lambda s: re.sub(r'\\s+', ' ', s))\n",
    "\n",
    "#tokenize\n",
    "tokenized_description = cleaned_description.apply(lambda s: word_tokenize(s))\n",
    "\n",
    "#remove stop words\n",
    "stop_dict = set(stopwords.words())\n",
    "sw_removed_description = tokenized_description.apply(lambda s: list(OrderedSet(s) - stop_dict))\n",
    "sw_removed_description = sw_removed_description.apply(lambda s: [word for word in s if len(word)>2])\n",
    "\n",
    "#create stem caches\n",
    "concated = np.unique(np.concatenate([s for s in tokenized_description.values]))\n",
    "stem_cache = {}\n",
    "ps = PorterStemmer()\n",
    "for s in concated:\n",
    "    stem_cache[s] = ps.stem(s)\n",
    "\n",
    "#stem\n",
    "stemmed_description = sw_removed_description.apply(lambda s: [stem_cache[w] for w in s])"
   ],
   "id": "182cac1d1b64ec18",
   "outputs": [],
   "execution_count": 23
  },
  {
   "metadata": {
    "ExecuteTime": {
     "end_time": "2024-12-02T10:42:07.012283Z",
     "start_time": "2024-12-02T10:42:06.868884Z"
    }
   },
   "cell_type": "code",
   "source": [
    "from sklearn.feature_extraction.text import CountVectorizer\n",
    "cv = CountVectorizer(analyzer=lambda s: s)\n",
    "vectorizer = cv.fit(stemmed_description)\n",
    "X = vectorizer.transform(stemmed_description)\n",
    "df = pd.DataFrame(X.toarray(), columns=cv.get_feature_names_out())\n",
    "print(pd.DataFrame(X.toarray(), columns=cv.get_feature_names_out()))"
   ],
   "id": "28d1ff391dcbdfdd",
   "outputs": [
    {
     "name": "stdout",
     "output_type": "stream",
     "text": [
      "     aa  aaa  aadairstrategicstaffcom  aaeeo  aampt  aapeeo  aau  ab  abap  \\\n",
      "0     0    0                        0      0      0       0    0   0     0   \n",
      "1     0    0                        0      0      0       0    0   0     0   \n",
      "2     0    0                        0      0      0       0    0   0     0   \n",
      "3     0    0                        0      0      0       0    0   0     0   \n",
      "4     0    0                        0      0      0       0    0   0     0   \n",
      "..   ..  ...                      ...    ...    ...     ...  ...  ..   ...   \n",
      "995   0    0                        0      0      0       0    0   0     0   \n",
      "996   0    0                        0      0      0       0    0   0     0   \n",
      "997   0    0                        0      0      0       0    0   0     0   \n",
      "998   0    0                        0      0      0       0    0   0     0   \n",
      "999   0    0                        0      0      0       0    0   0     0   \n",
      "\n",
      "     abapworkflow  ...  zeromq  zigbe  zip  zipkin  zone  zookeep  zoom  \\\n",
      "0               0  ...       0      0    0       0     0        0     0   \n",
      "1               0  ...       0      0    0       0     0        0     0   \n",
      "2               0  ...       0      0    0       0     0        0     0   \n",
      "3               0  ...       0      0    0       0     0        0     0   \n",
      "4               0  ...       0      0    0       0     0        0     0   \n",
      "..            ...  ...     ...    ...  ...     ...   ...      ...   ...   \n",
      "995             0  ...       0      0    0       0     0        0     0   \n",
      "996             0  ...       0      0    0       0     0        0     0   \n",
      "997             0  ...       0      0    0       0     0        0     0   \n",
      "998             0  ...       0      0    0       0     0        0     0   \n",
      "999             0  ...       0      0    0       0     0        0     0   \n",
      "\n",
      "     zumba  zuora  zuul  \n",
      "0        0      0     0  \n",
      "1        0      0     0  \n",
      "2        0      0     0  \n",
      "3        0      0     0  \n",
      "4        0      0     0  \n",
      "..     ...    ...   ...  \n",
      "995      0      0     0  \n",
      "996      0      0     0  \n",
      "997      0      0     0  \n",
      "998      0      0     0  \n",
      "999      0      0     0  \n",
      "\n",
      "[1000 rows x 9443 columns]\n"
     ]
    }
   ],
   "execution_count": 55
  },
  {
   "metadata": {},
   "cell_type": "markdown",
   "source": "## Page 70 of Handout #2",
   "id": "a90675dc0fe49669"
  },
  {
   "metadata": {
    "ExecuteTime": {
     "end_time": "2024-12-02T10:42:09.459426Z",
     "start_time": "2024-12-02T10:42:08.909106Z"
    }
   },
   "cell_type": "code",
   "source": [
    "unique_values = np.unique(np.concatenate(stemmed_description.values))\n",
    "manual_df = pd.DataFrame(columns=unique_values, index=stemmed_description.map(tuple))"
   ],
   "id": "edc5b5355689e038",
   "outputs": [],
   "execution_count": 56
  },
  {
   "metadata": {
    "ExecuteTime": {
     "end_time": "2024-12-02T10:42:41.314876Z",
     "start_time": "2024-12-02T10:42:10.986336Z"
    }
   },
   "cell_type": "code",
   "source": "cnt = manual_df.apply(lambda s: [np.sum(np.array(s.name) == ss ) if ss in set(s.name) else 0 for ss in s.index], axis=1)",
   "id": "13c717f7a69811f8",
   "outputs": [],
   "execution_count": 57
  },
  {
   "metadata": {
    "ExecuteTime": {
     "end_time": "2024-12-02T10:42:41.657106Z",
     "start_time": "2024-12-02T10:42:41.320017Z"
    }
   },
   "cell_type": "code",
   "source": "df_manual = pd.DataFrame(np.row_stack(cnt.reset_index(drop=True).values), columns=unique_values)",
   "id": "73241a147eebcc84",
   "outputs": [],
   "execution_count": 58
  },
  {
   "metadata": {
    "ExecuteTime": {
     "end_time": "2024-12-02T10:43:48.005707Z",
     "start_time": "2024-12-02T10:43:47.985010Z"
    }
   },
   "cell_type": "code",
   "source": "(df == df_manual).all()",
   "id": "8a1d85513c8b0065",
   "outputs": [
    {
     "data": {
      "text/plain": [
       "aa                         True\n",
       "aaa                        True\n",
       "aadairstrategicstaffcom    True\n",
       "aaeeo                      True\n",
       "aampt                      True\n",
       "                           ... \n",
       "zookeep                    True\n",
       "zoom                       True\n",
       "zumba                      True\n",
       "zuora                      True\n",
       "zuul                       True\n",
       "Length: 9443, dtype: bool"
      ]
     },
     "execution_count": 61,
     "metadata": {},
     "output_type": "execute_result"
    }
   ],
   "execution_count": 61
  }
 ],
 "metadata": {
  "kernelspec": {
   "display_name": "Python 3 (ipykernel)",
   "language": "python",
   "name": "python3"
  },
  "language_info": {
   "codemirror_mode": {
    "name": "ipython",
    "version": 3
   },
   "file_extension": ".py",
   "mimetype": "text/x-python",
   "name": "python",
   "nbconvert_exporter": "python",
   "pygments_lexer": "ipython3",
   "version": "3.12.7"
  }
 },
 "nbformat": 4,
 "nbformat_minor": 5
}
